{
 "cells": [
  {
   "cell_type": "markdown",
   "id": "e837625b",
   "metadata": {},
   "source": [
    "###### Anwendungsbezogenes Python - Test \n",
    "\n",
    "### Schleife und Summe\n",
    "\n",
    "Bitte lasse die folgenden beiden Code-Zellen laufen (Run oder Strg + Eingabe)"
   ]
  },
  {
   "cell_type": "code",
   "execution_count": null,
   "id": "cd88bd64",
   "metadata": {},
   "outputs": [],
   "source": [
    "import pandas as pd"
   ]
  },
  {
   "cell_type": "code",
   "execution_count": null,
   "id": "7c4d3f53",
   "metadata": {},
   "outputs": [],
   "source": [
    "df = pd.read_csv(r'https://raw.githubusercontent.com/'+chr(79)+chr(74)+chr(97)+chr(110)+chr(122)+'/Eisbude/main/Eisbude.csv')\n",
    "eis_dict = pd.Series(df['Absatz'].values, index=df['Eiscremesorte']).to_dict()"
   ]
  },
  {
   "cell_type": "markdown",
   "id": "b66f2bb4",
   "metadata": {},
   "source": [
    "\n",
    "Nachdem die beiden Zellen oben ausgeführt wurden, ist jetzt das Dictionary **eis_dict** verfügbar. \n",
    "\n",
    "Im Schlüssel des Dictionaries (erste Spalte) stehen verschiedene Eiscremesorten. Die dazugehörigen Werte (2. Spalte) zeigen den Absatz je Sorte.\n",
    "\n",
    "Um einen Eindruck zu erhalten, wie das Dictionary aussieht, starte den Code der nächsten Zelle und die ersten drei Einträge von **eis_dict** werden ausgegeben."
   ]
  },
  {
   "cell_type": "code",
   "execution_count": null,
   "id": "eca5f9dd",
   "metadata": {
    "scrolled": true
   },
   "outputs": [],
   "source": [
    "for key, value in list(eis_dict.items())[:3]:\n",
    "    print(f\"{key}: {value}\")"
   ]
  },
  {
   "cell_type": "markdown",
   "id": "79afa1f8",
   "metadata": {},
   "source": [
    "### Aufgabe\n",
    "Programmiere eine Schleife, die alle Eissorten im Dictionary durchläuft. Bei dem Durchlauf soll der Absatz jeder Sorte im Dictionary um 10 erhöht und wieder im Dictionary gespeichert werden.\n",
    "\n",
    "Nachdem die Schleife durchgelaufen ist, gehe in die nächste Code-Zelle und versuche mithilfe von Python die Summe des Absatzes über alle Eiscremesorten zu berechnen.\n",
    "\n",
    "Trage die Summe in Moodle ein.\n",
    "\n",
    "PS.: Hole Dir gerne Hilfe bei einer KI."
   ]
  },
  {
   "cell_type": "code",
   "execution_count": null,
   "id": "4bc25033",
   "metadata": {},
   "outputs": [],
   "source": []
  },
  {
   "cell_type": "code",
   "execution_count": null,
   "id": "4fd50d5f",
   "metadata": {},
   "outputs": [],
   "source": []
  },
  {
   "cell_type": "code",
   "execution_count": null,
   "id": "f8432d28",
   "metadata": {},
   "outputs": [],
   "source": []
  },
  {
   "cell_type": "code",
   "execution_count": null,
   "id": "29ea97e5",
   "metadata": {},
   "outputs": [],
   "source": []
  },
  {
   "cell_type": "code",
   "execution_count": null,
   "id": "e5b03436",
   "metadata": {},
   "outputs": [],
   "source": []
  },
  {
   "cell_type": "code",
   "execution_count": null,
   "id": "c5f9899e",
   "metadata": {},
   "outputs": [],
   "source": []
  },
  {
   "cell_type": "code",
   "execution_count": null,
   "id": "d2a83f7f",
   "metadata": {},
   "outputs": [],
   "source": []
  },
  {
   "cell_type": "code",
   "execution_count": null,
   "id": "f7e01bcb",
   "metadata": {},
   "outputs": [],
   "source": []
  },
  {
   "cell_type": "code",
   "execution_count": null,
   "id": "71910dfb",
   "metadata": {},
   "outputs": [],
   "source": []
  }
 ],
 "metadata": {
  "kernelspec": {
   "display_name": "Python 3 (ipykernel)",
   "language": "python",
   "name": "python-RETaiL"
  },
  "language_info": {
   "codemirror_mode": {
    "name": "ipython",
    "version": 3
   },
   "file_extension": ".py",
   "mimetype": "text/x-python",
   "name": "python",
   "nbconvert_exporter": "python",
   "pygments_lexer": "ipython3",
   "version": "3.11.5"
  }
 },
 "nbformat": 4,
 "nbformat_minor": 5
}
