{
  "nbformat": 4,
  "nbformat_minor": 0,
  "metadata": {
    "colab": {
      "provenance": []
    },
    "kernelspec": {
      "name": "python3",
      "display_name": "Python 3"
    },
    "language_info": {
      "name": "python"
    }
  },
  "cells": [
    {
      "cell_type": "markdown",
      "source": [
        "#Pandas DataFrames\n",
        "\n",
        "\n",
        "**Pandas** ist eine Bibliothek in Python, die leistungsstarke Datenstrukturen wie DataFrames und Serien für die Datenanalyse und -manipulation bietet.\n",
        "\n",
        "Ein **DataFrame** in Pandas ist wie eine Tabelle in einem Excel-Arbeitsblatt, in der Daten in Zeilen und Spalten organisiert sind, wobei jede Spalte unterschiedliche Arten von Informationen enthalten kann."
      ],
      "metadata": {
        "id": "xmkANd27sNet"
      }
    },
    {
      "cell_type": "markdown",
      "source": [
        "### **Tabelle in DataFrame laden**"
      ],
      "metadata": {
        "id": "3b4wZMjfN_ch"
      }
    },
    {
      "cell_type": "code",
      "execution_count": null,
      "metadata": {
        "id": "1jQ6OAvOtUUo"
      },
      "outputs": [],
      "source": [
        "# Pandas Bibliothek laden\n",
        "import pandas as pd\n",
        "\n",
        "# URL der PKW-Frequenzdaten Tabelle 1\n",
        "url = 'https://raw.githubusercontent.com/OJanz/PKW-Frequenzen/main/PKW-Frequenzen-Tab1.csv'\n",
        "\n",
        "# Daten in Pandas DataFrame einlesen\n",
        "df = pd.read_csv(url)\n",
        "\n",
        "# Die ersten fünf Datensätze ausgeben\n",
        "print(df.head(10))"
      ]
    },
    {
      "cell_type": "markdown",
      "source": [
        "### **Dataframe konsolidieren**\n",
        "Wir wollen wissen, wie viele Fahrzeuge in Summe pro Kalenderwoche in den beiden Straßen unterwegs sind.\n",
        "\n",
        "\n",
        "---\n",
        "\n",
        "PROMPT: *Ich möchte ein Dataframe über die Spalte \"Kalenderwoche\" konsolidieren. Die anderen Spalten sollen über die \"Kalenderwoche\" ausfummiert werden. Bitte erstelle eine Codebeispiel in Python.*\n",
        "\n",
        "---\n",
        "\n"
      ],
      "metadata": {
        "id": "K94VD1NGOJK5"
      }
    },
    {
      "cell_type": "code",
      "source": [
        "# DataFrame über die \"Kalenderwoche\" als Summe aggregieren\n",
        "grouped_df = df.groupby('Kalenderwoche').agg({\n",
        "    'Hauptstraße': 'sum',\n",
        "    'Rathausstraße': 'sum'\n",
        "    })\n",
        "\n",
        "print(grouped_df)"
      ],
      "metadata": {
        "colab": {
          "base_uri": "https://localhost:8080/"
        },
        "id": "uXOHthWUMpl2",
        "outputId": "a403b38b-5022-4144-f277-03ab89bd46b5"
      },
      "execution_count": null,
      "outputs": [
        {
          "output_type": "stream",
          "name": "stdout",
          "text": [
            "               Hauptstraße  Rathausstraße\n",
            "Kalenderwoche                            \n",
            "40                     737           1126\n",
            "41                     805           1214\n",
            "42                     850           1246\n",
            "43                     877           1140\n",
            "44                     805           1193\n"
          ]
        }
      ]
    },
    {
      "cell_type": "code",
      "source": [
        "# Index einfügen und \"Kalenderwoche\" als Spalte erhalten\n",
        "grouped_df = grouped_df.reset_index()\n",
        "print(grouped_df)"
      ],
      "metadata": {
        "colab": {
          "base_uri": "https://localhost:8080/"
        },
        "id": "HP2zi81f8tCc",
        "outputId": "6ce0aa8a-76b3-494e-90cd-af1b708dcd20"
      },
      "execution_count": null,
      "outputs": [
        {
          "output_type": "stream",
          "name": "stdout",
          "text": [
            "   Kalenderwoche  Hauptstraße  Rathausstraße\n",
            "0             40          737           1126\n",
            "1             41          805           1214\n",
            "2             42          850           1246\n",
            "3             43          877           1140\n",
            "4             44          805           1193\n"
          ]
        }
      ]
    },
    {
      "cell_type": "markdown",
      "source": [
        "### **Filtern eines Dataframes**\n",
        "Wir wollen die Daten filtern und uns ausschließlich die Daten der Wochentage Montag und Dienstag anschauen.\n",
        "\n",
        "\n",
        "---\n",
        "PROMPT: *Filtern eines Dataframes: Mein Dataframe enthält unter anderem eine Spalte mit dem Namen \"Wochentag\". Ich möchte ein Dataframe nach folgender Bedingung filtern: \"Wochentag\" = \"Mo\" **oder** \"Wochentag\" = \"Di\". Bitte erstelle einen Beispielcode in Python.*\n",
        "\n",
        "---\n",
        "\n"
      ],
      "metadata": {
        "id": "oW8MZP3sPa9O"
      }
    },
    {
      "cell_type": "code",
      "source": [
        "# Dataframe filtern nach Montag oder Dienstag\n",
        "# --->   \"|\" das Zeichen bedeutet ODER. Tastenkombination: alt gr  <\n",
        "\n",
        "filtered_df = df[(df['Wochentag'] == 'Mo') | (df['Wochentag'] == 'Di')]\n",
        "\n",
        "# print the filtered DataFrame\n",
        "print(filtered_df)"
      ],
      "metadata": {
        "colab": {
          "base_uri": "https://localhost:8080/"
        },
        "id": "_ZyslrUVNQ4B",
        "outputId": "50624505-56ea-46c0-bdb7-0e0ac0c22fcd"
      },
      "execution_count": null,
      "outputs": [
        {
          "output_type": "stream",
          "name": "stdout",
          "text": [
            "           Tag Wochentag  Kalenderwoche  Hauptstraße  Rathausstraße\n",
            "0   02.10.2023        Mo             40           96            169\n",
            "1   03.10.2023        Di             40           97            119\n",
            "7   09.10.2023        Mo             41          134            214\n",
            "8   10.10.2023        Di             41          126            171\n",
            "14  16.10.2023        Mo             42          111            168\n",
            "15  17.10.2023        Di             42          145            173\n",
            "21  23.10.2023        Mo             43          124            157\n",
            "22  24.10.2023        Di             43          142            163\n",
            "28  30.10.2023        Mo             44          119            114\n",
            "29  31.10.2023        Di             44          150            177\n"
          ]
        }
      ]
    },
    {
      "cell_type": "markdown",
      "source": [
        "### **Dataframe ergänzen**\n",
        "Wir haben die Daten für eine weitere Straße erhalten (Mierendorffstraße). Die Daten sind in der Datei PKW-Frequenzen-Tab2.csv auf Github gespeichert. Wir wollen unser bestehendes Dataframe um die neuen Daten ergänzen. Die Verknüpfung der beiden Tabellen ist über die Spalte \"Tag\" möglich.\n",
        "\n",
        "![Zwei Tabellen.png](data:image/png;base64,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)\n",
        "\n",
        "\n",
        "---\n",
        "\n",
        "PROMPT: *Tabelle zusammenführen: Ich habe zwei Datframes (df und df2). Die Spalte \"Tag\" ist in beiden Dataframes enthalten. Ich möchte die beiden Dataframes über die Splate \"Tag\" in einem Dataframe zusammenführen. Bitte erstelle ein Codebeispiel in Python.*\n",
        "\n",
        "---\n",
        "\n",
        "\n"
      ],
      "metadata": {
        "id": "qIiziuzOPldb"
      }
    },
    {
      "cell_type": "code",
      "source": [
        "# Zweite Tabelle in das DataFrame df2 laden\n",
        "\n",
        "# URL der PKW-Frequenzdaten Tabelle 2\n",
        "url2 = 'https://raw.githubusercontent.com/OJanz/PKW-Frequenzen/main/PKW-Frequenzen-Tab2.csv'\n",
        "\n",
        "# Daten in Pandas Data Frame laden\n",
        "df2 = pd.read_csv(url2)\n",
        "\n",
        "# Die ersten fünf Datensätze ausgeben\n",
        "print(df2.head())"
      ],
      "metadata": {
        "colab": {
          "base_uri": "https://localhost:8080/"
        },
        "id": "BfUKBFInPsvt",
        "outputId": "2d002540-f511-4c25-8de0-d1ffa0c4b0e1"
      },
      "execution_count": null,
      "outputs": [
        {
          "output_type": "stream",
          "name": "stdout",
          "text": [
            "          Tag Wochentag  Kalenderwoche  Mierendorffstraße\n",
            "0  02.10.2023        Mo             40                 88\n",
            "1  03.10.2023        Di             40                 84\n",
            "2  04.10.2023        Mi             40                 73\n",
            "3  05.10.2023        Do             40                 87\n",
            "4  06.10.2023        Fr             40                 71\n"
          ]
        }
      ]
    },
    {
      "cell_type": "code",
      "source": [
        "# Zusammenführen der Dataframes über die Spalte \"Tag\"\n",
        "merged_df = pd.merge(df, df2, on=\"Tag\")\n",
        "\n",
        "print(merged_df.head())"
      ],
      "metadata": {
        "colab": {
          "base_uri": "https://localhost:8080/"
        },
        "id": "eeTSIDxiQZWA",
        "outputId": "a91868d6-8b73-4556-b04d-ac35206a5a99"
      },
      "execution_count": null,
      "outputs": [
        {
          "output_type": "stream",
          "name": "stdout",
          "text": [
            "          Tag Wochentag_x  Kalenderwoche_x  Hauptstraße  Rathausstraße  \\\n",
            "0  02.10.2023          Mo               40           96            169   \n",
            "1  03.10.2023          Di               40           97            119   \n",
            "2  04.10.2023          Mi               40          103            210   \n",
            "3  05.10.2023          Do               40          129            239   \n",
            "4  06.10.2023          Fr               40          114            165   \n",
            "\n",
            "  Wochentag_y  Kalenderwoche_y  Mierendorffstraße  \n",
            "0          Mo               40                 88  \n",
            "1          Di               40                 84  \n",
            "2          Mi               40                 73  \n",
            "3          Do               40                 87  \n",
            "4          Fr               40                 71  \n"
          ]
        }
      ]
    },
    {
      "cell_type": "markdown",
      "source": [
        "**Problem:** Das neue Dataframe (merged_df) enthält die Spalten \"Wochentag\" und \"Kalenderwoche\" doppelt. Das müssen wir verhindern.\n",
        "\n",
        "Wir fragen im selben Chat nach:\n",
        "\n",
        "\n",
        "\n",
        "---\n",
        "\n",
        "\n",
        "Prompt:  *Neben dem Feld \"Tag\" soll merge_df ausschließlich folgende Felder enthalten:*\n",
        "- \"Kalenderwoche\" aus df\n",
        "- \"Wochentag\" as df\n",
        "- \"Rathausstraße\" aus df\n",
        "- \"Hauptstraße\" as df\n",
        "- \"Mierendorffstraße\" aus df2\n",
        "\n",
        "\n",
        "*Bitte erstelle ein Codebeispiel in Python.*\n",
        "\n",
        "\n",
        "---\n",
        "\n"
      ],
      "metadata": {
        "id": "YMkgnbxo8XBn"
      }
    },
    {
      "cell_type": "code",
      "source": [
        "# Zusammenführen der Dataframes über die Spalte \"Tag\" und Auswahl der gewünschten Spalten\n",
        "merged_df = pd.merge(df[['Tag', 'Kalenderwoche', 'Wochentag', 'Rathausstraße', 'Hauptstraße']],\n",
        "                     df2[['Tag', 'Mierendorffstraße']],\n",
        "                     left_on=\"Tag\", right_on=\"Tag\")\n",
        "\n",
        "print(merged_df.head())"
      ],
      "metadata": {
        "colab": {
          "base_uri": "https://localhost:8080/"
        },
        "id": "tfn61Fi5SUJC",
        "outputId": "c1a1bdd8-4006-4383-ebb6-071b33da884a"
      },
      "execution_count": null,
      "outputs": [
        {
          "output_type": "stream",
          "name": "stdout",
          "text": [
            "          Tag  Kalenderwoche Wochentag  Rathausstraße  Hauptstraße  \\\n",
            "0  02.10.2023             40        Mo            169           96   \n",
            "1  03.10.2023             40        Di            119           97   \n",
            "2  04.10.2023             40        Mi            210          103   \n",
            "3  05.10.2023             40        Do            239          129   \n",
            "4  06.10.2023             40        Fr            165          114   \n",
            "\n",
            "   Mierendorffstraße  \n",
            "0                 88  \n",
            "1                 84  \n",
            "2                 73  \n",
            "3                 87  \n",
            "4                 71  \n"
          ]
        }
      ]
    },
    {
      "cell_type": "markdown",
      "source": [
        "#A U F G A B E N\n",
        "\n",
        "\n",
        "###Aufgabe 1\n",
        "\n",
        "Filter die Daten aus dem Notebook nach Sonntagen und gebe sie aus.\n",
        "\n",
        "###Aufgabe 2\n",
        "\n",
        "Ermittle im Notebook die durchschnittliche Frequenz je Straße. Nutze zur Hilfe dafür folgenden Prompt:\n",
        "\n",
        "\n",
        "\n",
        "---\n",
        "\n",
        "\n",
        "**PROMPT**\n",
        "\n",
        "Ich habe ein Dataframe (merged_df) mit den drei Spalten 'Rathausstraße', 'Hauptstzraße' und 'Mierendorffstraße'. Bitte erzeuge einen Beispielcode, der das Arthmetische Mittel für jede Straße ermittelt.\n",
        "\n",
        "\n",
        "---\n",
        "\n",
        "###Aufgabe 3\n",
        "\n",
        "Ermittle jetzt für jede Straße die maximale und die minimale Frequenz. Nutze wieder die KI zur Hilfe."
      ],
      "metadata": {
        "id": "7FBQJV5H4olV"
      }
    }
  ]
}