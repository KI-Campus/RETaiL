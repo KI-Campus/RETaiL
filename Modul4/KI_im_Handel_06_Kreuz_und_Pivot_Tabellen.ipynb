{
  "nbformat": 4,
  "nbformat_minor": 0,
  "metadata": {
    "colab": {
      "provenance": []
    },
    "kernelspec": {
      "name": "python-RETaiL",
      "display_name": "Python 3"
    },
    "language_info": {
      "name": "python"
    }
  },
  "cells": [
    {
      "cell_type": "markdown",
      "source": [
        "#Kreuztabellen und Pivot-Tabellen"
      ],
      "metadata": {
        "id": "s_rqoaSvOFW6"
      }
    },
    {
      "cell_type": "markdown",
      "source": [
        "### DataFrame importieren"
      ],
      "metadata": {
        "id": "BfXM_VAgBx5Y"
      }
    },
    {
      "cell_type": "code",
      "execution_count": null,
      "metadata": {
        "id": "6GuOctqqgN1v"
      },
      "outputs": [],
      "source": [
        "import pandas as pd\n",
        "\n",
        "# URL der Farhzeugfrequenzen nach Fahrzeugtyp\n",
        "url = 'https://raw.githubusercontent.com/OJanz/PKW-Frequenzen/main/Frequenzen%20nach%20Fahrzeugtyp.csv'\n",
        "\n",
        "# Daten in Pandas Data Frame einlesen\n",
        "df = pd.read_csv(url)\n",
        "\n",
        "# Die ersten fünf Datensätze ausgeben\n",
        "print(df.head())\n",
        "print(df.shape)"
      ]
    },
    {
      "cell_type": "markdown",
      "source": [
        "\n",
        "\n",
        "---\n",
        "\n",
        "**PROPMT:** Kreuztabelle: Ich habe ein Pandas Dataframe mit folgenden Feldern:\n",
        "- Tag\n",
        "- Wochentag\n",
        "- Kalenderwoche\n",
        "- Autobahn\n",
        "- Fz-Typ\n",
        "- Fahrzeuge\n",
        "\n",
        "Ich möchte in Python eine Kreuztabelle erstellen, die in den Spalten die unterschiedlichen Fahrzeugtypen (Fz-Typ) darstellt und in den Zeilen die unterschiedlichen Autobahnen (Autobahn). In den Zellen der Kreuztabelle soll die durchschnittliche Anzahl Fahrzeuge ausgewiesen werden (Fahrzeuge).\n",
        "\n",
        "\n",
        "Bitte erstelle ein Codebeispiel in Python.\n",
        "\n",
        "\n",
        "\n",
        "---\n",
        "\n"
      ],
      "metadata": {
        "id": "P7Ce8fLnBQEH"
      }
    },
    {
      "cell_type": "code",
      "source": [
        "# Create the cross table\n",
        "cross_table = pd.pivot_table(df, values='Fahrzeuge', index='Autobahn', columns='Fz-Typ', aggfunc='mean')\n",
        "\n",
        "# Print the cross table\n",
        "print(cross_table)"
      ],
      "metadata": {
        "id": "hheKqEx0t5I0"
      },
      "execution_count": null,
      "outputs": []
    },
    {
      "cell_type": "markdown",
      "source": [
        "Problem: Die Werte sind aufgrund der Nachkommastellen schwer lesbar.\n",
        "\n",
        "---\n",
        "**PROMPT:** Ich nutze folgenden Code um eine Kreuztabelle auszugeben. Wie schaffe ich es, dass die Werte ohne Nachkommastellen angezeigt werden?\n",
        "\n",
        "Hier der Code:\n",
        "\n",
        "cross_table = pd.pivot_table(df, values='Fahrzeuge', index='Autobahn', columns='Fz-Typ', aggfunc='mean')\n",
        "\n",
        "print(cross_table)\n",
        "\n",
        "---\n"
      ],
      "metadata": {
        "id": "RaCR_CR0M_TY"
      }
    },
    {
      "cell_type": "code",
      "source": [
        "# Set the display format\n",
        "pd.options.display.float_format = '{:,.0f}'.format\n",
        "\n",
        "print(cross_table)"
      ],
      "metadata": {
        "id": "Z8ojbjFMNjBD"
      },
      "execution_count": null,
      "outputs": []
    },
    {
      "cell_type": "markdown",
      "source": [
        "#A U F G A B E\n",
        "\n",
        "Erstelle eine Pivot-Tabelle im Notebook, die die maximal gezählte Anzahl Fahrzeuge je Fahrzeugtyp und Autobahn berechnet. Gebe das Ergbnis am Bildschirm aus.\n",
        "\n",
        "Bitte eine KI um Hilfe.\n"
      ],
      "metadata": {
        "id": "UGO4Fn7yLTwH"
      }
    }
  ]
}
