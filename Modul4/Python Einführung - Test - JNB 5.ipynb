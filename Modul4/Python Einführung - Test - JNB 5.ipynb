{
 "cells": [
  {
   "cell_type": "markdown",
   "id": "e837625b",
   "metadata": {},
   "source": [
    "###### Anwendungsbezogenes Python - Test \n",
    "\n",
    "### DataFrame filtern und aufsummieren\n",
    "\n",
    "Bitte lasse die folgenden beiden Code-Zellen laufen (Run oder Strg + Eingabe)"
   ]
  },
  {
   "cell_type": "code",
   "execution_count": null,
   "id": "cd88bd64",
   "metadata": {},
   "outputs": [],
   "source": [
    "import pandas as pd"
   ]
  },
  {
   "cell_type": "code",
   "execution_count": null,
   "id": "24cd63ea",
   "metadata": {},
   "outputs": [],
   "source": [
    "df = pd.read_csv(r'https://raw.githubusercontent.com/'+chr(79)+chr(74)+chr(97)+chr(110)+chr(122)+'/Eisbude/main/Eisbude2.csv')"
   ]
  },
  {
   "cell_type": "markdown",
   "id": "b66f2bb4",
   "metadata": {},
   "source": [
    "\n",
    "Nachdem die beiden Zellen oben ausgeführt wurden, ist jetzt das DataFrame **df** verfügbar. \n",
    "\n",
    "Das DataFrame **df** enthält die Felder (Spalten) Eiscremesorte, Verkäufer und Absatz. Die einzigen beiden Verkäufer sind Josef und Klaus. Der Absatz gibt die Anzahl der verkauften Eiskugeln an.\n",
    "\n",
    "Wenn Du den print-Befehl in der nächsten Zelle ausführst, erhältst Du einen Eindruck von den Daten."
   ]
  },
  {
   "cell_type": "code",
   "execution_count": null,
   "id": "eca5f9dd",
   "metadata": {
    "scrolled": false
   },
   "outputs": [],
   "source": [
    "print(df.head())"
   ]
  },
  {
   "cell_type": "markdown",
   "id": "79afa1f8",
   "metadata": {},
   "source": [
    "### Aufgabe\n",
    "Wir möchten wissen, wie viel Eiskugeln Josef in Summe verkauft hat.\n",
    "\n",
    "*Tipp: Filtere df zuerst nach dem Verkäufer 'Josef'.*\n",
    "\n",
    "Trage das Ergebnis ohne Nachkommastellen in Moodle ein."
   ]
  },
  {
   "cell_type": "code",
   "execution_count": null,
   "id": "4fd50d5f",
   "metadata": {},
   "outputs": [],
   "source": []
  },
  {
   "cell_type": "code",
   "execution_count": null,
   "id": "0ede27e4",
   "metadata": {},
   "outputs": [],
   "source": []
  },
  {
   "cell_type": "code",
   "execution_count": null,
   "id": "a2163973",
   "metadata": {},
   "outputs": [],
   "source": []
  },
  {
   "cell_type": "code",
   "execution_count": null,
   "id": "33ad636a",
   "metadata": {},
   "outputs": [],
   "source": []
  },
  {
   "cell_type": "code",
   "execution_count": null,
   "id": "c5f9899e",
   "metadata": {},
   "outputs": [],
   "source": []
  },
  {
   "cell_type": "code",
   "execution_count": null,
   "id": "d2a83f7f",
   "metadata": {},
   "outputs": [],
   "source": []
  },
  {
   "cell_type": "code",
   "execution_count": null,
   "id": "f7e01bcb",
   "metadata": {},
   "outputs": [],
   "source": []
  },
  {
   "cell_type": "code",
   "execution_count": null,
   "id": "71910dfb",
   "metadata": {},
   "outputs": [],
   "source": []
  }
 ],
 "metadata": {
  "kernelspec": {
   "display_name": "Python 3 (ipykernel)",
   "language": "python",
   "name": "python-RETaiL"
  },
  "language_info": {
   "codemirror_mode": {
    "name": "ipython",
    "version": 3
   },
   "file_extension": ".py",
   "mimetype": "text/x-python",
   "name": "python",
   "nbconvert_exporter": "python",
   "pygments_lexer": "ipython3",
   "version": "3.11.5"
  }
 },
 "nbformat": 4,
 "nbformat_minor": 5
}
