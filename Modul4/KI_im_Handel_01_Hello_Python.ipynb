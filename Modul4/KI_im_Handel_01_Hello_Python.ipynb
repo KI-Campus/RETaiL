{
 "nbformat": 4,
 "nbformat_minor": 0,
 "metadata": {
  "colab": {
   "provenance": []
  },
  "kernelspec": {
   "name": "python3",
   "display_name": "Python 3"
  },
  "language_info": {
   "name": "python"
  }
 },
 "cells": [
  {
   "cell_type": "markdown",
   "source": [
    "### **Hello Python**"
   ],
   "metadata": {
    "id": "67jINU1_jndU"
   }
  },
  {
   "cell_type": "code",
   "execution_count": null,
   "metadata": {
    "id": "B6auzwkijflS"
   },
   "outputs": [],
   "source": [
    "text = \"Hello Python\"\n",
    "print(text)     # Der Print-Befehl gibt Inahlte am Bildschirm aus. Achte auf G# roß und Kleinschreibung, Befehle werden in Python immer klein geschrieben."
   ]
  },
  {
   "cell_type": "markdown",
   "source": [
    "### Arbeiten mit Zahlen"
   ],
   "metadata": {
    "id": "FCTakA9QgkbF"
   }
  },
  {
   "cell_type": "code",
   "source": [
    "a = 5\n",
    "b = 10.1\n",
    "c = a + b\n",
    "print(c)\n",
    "print(a*b+10)"
   ],
   "metadata": {
    "id": "vy7PH_XakMuf"
   },
   "execution_count": null,
   "outputs": []
  },
  {
   "cell_type": "markdown",
   "source": [
    "#A U F G A B E N\n",
    "\n",
    "###Aufgabe 1\n",
    "Geben den Prompt unten in ein LLM (Chat GPT, Perplexity, Bard, ...) ein und versuche die Rechnungen mit Hilfe der Antwort in Python durchzuführen.\n",
    "\n",
    "\n",
    "---\n",
    "**PROMT**\n",
    "\n",
    "Bitte erzeuge einen Beispielcode in Python, der der Variabe a den Wert 2 und der Variable b den Wert 9 zuweist. Berechne dann in Python fogendes:\n",
    "- quadriere a\n",
    "- ziehe die Wurzel aus b\n",
    "Gebe die Ergebnisse aus.\n",
    "\n",
    "\n",
    "---\n",
    "\n",
    "\n",
    "\n",
    "### Aufgabe 2\n",
    "Programmiere einen einfachen Taschenrechner, der zwei Zahlen addiert.\n",
    "\n",
    "Versuche es mit folgendem Prompt:\n",
    "\n",
    "---\n",
    "\n",
    "\n",
    "**PROMPT**\n",
    "\n",
    " Erstelle ein Pythonprogramm der vom User folgende Eingaben erwartet:\n",
    "- Zahl 1\n",
    "- Zahl 2\n",
    "\n",
    "Nach Eingabe der zweiten Zahl soll der Text \"Ergebnis: \" ausgegeben werden und danach das Ergebnis aus Zahl 1 + Zahl 2.\n",
    "\n",
    "\n",
    "\n",
    "---"
   ],
   "metadata": {
    "id": "H9INSpOQmvd2"
   }
  }
 ]
}
