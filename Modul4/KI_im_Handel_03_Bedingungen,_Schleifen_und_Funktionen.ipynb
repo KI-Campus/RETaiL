{
  "nbformat": 4,
  "nbformat_minor": 0,
  "metadata": {
    "colab": {
      "provenance": []
    },
    "kernelspec": {
      "name": "python3",
      "display_name": "Python 3"
    },
    "language_info": {
      "name": "python"
    }
  },
  "cells": [
    {
      "cell_type": "markdown",
      "source": [
        "### **Dictionary erzeugen**"
      ],
      "metadata": {
        "id": "6hTMf0dbrzlh"
      }
    },
    {
      "cell_type": "code",
      "execution_count": null,
      "metadata": {
        "colab": {
          "base_uri": "https://localhost:8080/"
        },
        "id": "kZgphzffrJv3",
        "outputId": "ca99b8e8-d529-4425-a539-44abc0c3663d"
      },
      "outputs": [
        {
          "output_type": "stream",
          "name": "stdout",
          "text": [
            "25\n"
          ]
        }
      ],
      "source": [
        "punkte = {\n",
        "            'Adelheid': 18,\n",
        "            'Gerlinde': 86,\n",
        "            'Brunhilde': 61,\n",
        "            'Dietrich': 42,\n",
        "            'Eberhard': 54,\n",
        "            'Friedhelm': 83,\n",
        "            'Gertrud': 72,\n",
        "            'Hannelore': 41,\n",
        "            'Irmgard': 42,\n",
        "            'Johann': 75,\n",
        "            'Kunigunde': 13,\n",
        "            'Ludwig': 87,\n",
        "            'Margarete': 65,\n",
        "            'Norbert': 70,\n",
        "            'Otto': 4,\n",
        "            'Paula': 32,\n",
        "            'Quirin': 79,\n",
        "            'Roswitha': 69,\n",
        "            'Siegfried': 49,\n",
        "            'Theodor': 43,\n",
        "            'Ulrich': 80,\n",
        "            'Veronika': 61,\n",
        "            'Waltraud': 88,\n",
        "            'Xaver': 65,\n",
        "            'Yvonne': 77\n",
        "          }\n",
        "\n",
        "print(len(punkte))"
      ]
    },
    {
      "cell_type": "markdown",
      "source": [
        "\n",
        "Ich möchte wissen, welche Schüler mehr als 80 Punkte erreicht haben.\n",
        "\n",
        "Dazu gege ich das Dictionary durch, prüfe die Punkte und erstelle eine Liste.\n",
        "\n",
        "\n",
        "\n",
        "---\n",
        "\n",
        "PROMPT: *Ich habe ein Python Dictionary. In der ersten Spalte stehen Namen und in der zweiten Spalte stehen Punkte. Ich brauche einen Python Code, der durch das gesamte Dictionary geht und die Namen von allen, die mehr als 80 Punkte haben in eine Liste schreibt.*\n",
        "\n",
        "---\n",
        "\n"
      ],
      "metadata": {
        "id": "Bi2cCRJ3t9ML"
      }
    },
    {
      "cell_type": "code",
      "source": [
        "# Liste definieren\n",
        "bedinung_erfüllt = []\n",
        "\n",
        "# Durch Dictionary iterieren\n",
        "for name, points in punkte.items():\n",
        "    if points > 80:\n",
        "        bedinung_erfüllt.append(name)\n",
        "\n",
        "\n",
        "# Print the result\n",
        "print(bedinung_erfüllt)"
      ],
      "metadata": {
        "colab": {
          "base_uri": "https://localhost:8080/"
        },
        "id": "tHTKJOvBtT7H",
        "outputId": "af9e3470-7a2d-4796-ff40-a9b830b888c4"
      },
      "execution_count": null,
      "outputs": [
        {
          "output_type": "stream",
          "name": "stdout",
          "text": [
            "['Gerlinde', 'Friedhelm', 'Ludwig', 'Waltraud']\n"
          ]
        }
      ]
    },
    {
      "cell_type": "markdown",
      "source": [
        "Wiederverwendbare Funktion erstellen"
      ],
      "metadata": {
        "id": "Kn-ZOGJqxKkv"
      }
    },
    {
      "cell_type": "code",
      "source": [
        "def auswahl(min_, max_):\n",
        "  # Liste definieren\n",
        "  bedinung_erfüllt = []\n",
        "\n",
        "  # Durch Dictionary iterieren\n",
        "  for name, points in punkte.items():\n",
        "      if points >= min_ and points <= max_:\n",
        "          bedinung_erfüllt.append(name)\n",
        "\n",
        "  return bedinung_erfüllt"
      ],
      "metadata": {
        "id": "ISmOG9UdxPOV"
      },
      "execution_count": null,
      "outputs": []
    },
    {
      "cell_type": "markdown",
      "source": [
        "Aufruf der Funktion"
      ],
      "metadata": {
        "id": "KeLDyRg5yCCj"
      }
    },
    {
      "cell_type": "code",
      "source": [
        "schuelergruppe = auswahl(0, 50)\n",
        "print(schuelergruppe)"
      ],
      "metadata": {
        "colab": {
          "base_uri": "https://localhost:8080/"
        },
        "id": "GHm0t1tXyBKV",
        "outputId": "a0e351bd-50df-47c2-edaf-2f5ea3f43f1e"
      },
      "execution_count": null,
      "outputs": [
        {
          "output_type": "stream",
          "name": "stdout",
          "text": [
            "['Adelheid', 'Dietrich', 'Hannelore', 'Irmgard', 'Kunigunde', 'Otto', 'Paula', 'Siegfried', 'Theodor']\n"
          ]
        }
      ]
    },
    {
      "cell_type": "markdown",
      "source": [
        "# A U F G A B E N\n",
        "\n",
        "###Aufgabe 1\n",
        "Erstelle einen Code, der die Punktzahl von 'Norbert' ausgibt\n",
        "\n",
        "###Aufgabe 2\n",
        "Ändere die Funktion *auswahl* im Notebook so, dass keine Liste von Namen erzeugt wird sondern, dass die Punkte der ausgewählten Schüler addiert werden und über return zurückgegeben werden.\n",
        "\n",
        "Tipp: nutze statt\n",
        "\n",
        "*bedingung_erfüllt = []*\n",
        "\n",
        "folgenden Code:\n",
        "\n",
        "*summe_punkte = 0*\n",
        "\n",
        "###Aufgabe 3\n",
        "\n",
        "Erstelle eine Liste mit Namen list1, die mehrere Floats, Integer und Strings enthält.\n",
        "Kopiere das folgende Codebeispiel in Dein Notebook und teste, ob die Summe richtig gebildet wird.\n",
        "\n",
        "```\n",
        "for element in list1:         \n",
        "     if type(element) == int or type(element) == float:   \n",
        "          summe += element\n",
        "```\n",
        "\n",
        "\n",
        "\n",
        "###Aufgabe 4\n",
        "\n",
        "Erstelle eine Funktion, der eine Liste als Parameter übergeben wird. Die Funktion soll die Float- und Integer-Werte in der Liste addieren und das Ergebnis mit Hilfe der return-Anweisung zurückgeben. Nutze dazu gern den Code aus Aufgabe 1."
      ],
      "metadata": {
        "id": "oUWUmvG4zPfv"
      }
    }
  ]
}