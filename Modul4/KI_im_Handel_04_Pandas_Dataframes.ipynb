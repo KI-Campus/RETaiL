{
  "nbformat": 4,
  "nbformat_minor": 0,
  "metadata": {
    "colab": {
      "provenance": []
    },
    "kernelspec": {
      "name": "python-retail",
      "display_name": "Python-RETaiL"
    },
    "language_info": {
      "name": "python"
    }
  },
  "cells": [
    {
      "cell_type": "markdown",
      "source": [
        "#Pandas DataFrames\n",
        "\n",
        "\n",
        "**Pandas** ist eine Bibliothek in Python, die leistungsstarke Datenstrukturen wie DataFrames und Serien für die Datenanalyse und -manipulation bietet.\n",
        "\n",
        "Ein **DataFrame** in Pandas ist wie eine Tabelle in einem Excel-Arbeitsblatt, in der Daten in Zeilen und Spalten organisiert sind, wobei jede Spalte unterschiedliche Arten von Informationen enthalten kann."
      ],
      "metadata": {
        "id": "xmkANd27sNet"
      }
    },
    {
      "cell_type": "markdown",
      "source": [
        "### **Tabelle in DataFrame laden**"
      ],
      "metadata": {
        "id": "3b4wZMjfN_ch"
      }
    },
    {
      "cell_type": "code",
      "source": [
        "pip install pandas"
      ],
      "metadata": {
        "id": "GS1bqs6X4FCg"
      },
      "execution_count": null,
      "outputs": []
    },
    {
      "cell_type": "code",
      "execution_count": null,
      "metadata": {
        "id": "1jQ6OAvOtUUo"
      },
      "outputs": [],
      "source": [
        "# Pandas Bibliothek laden\n",
        "import pandas as pd\n",
        "\n",
        "# URL der PKW-Frequenzdaten Tabelle 1\n",
        "url = 'https://raw.githubusercontent.com/OJanz/PKW-Frequenzen/main/PKW-Frequenzen-Tab1.csv'\n",
        "\n",
        "# Daten in Pandas DataFrame einlesen\n",
        "df = pd.read_csv(url)\n",
        "\n",
        "# Die ersten fünf Datensätze ausgeben\n",
        "print(df.head(10))"
      ]
    },
    {
      "cell_type": "markdown",
      "source": [
        "###**Bestimmte Zeile ausgeben**"
      ],
      "metadata": {
        "id": "p3AqcylPuNsP"
      }
    },
    {
      "cell_type": "code",
      "source": [
        "# Werte der dritten Zeile in der Variable (dem Objekt) mit dem Namen \"zeile_3\" speichern\n",
        "zeile_3 = df.iloc[2]    # Python fängt mit 0 an zu zählen, deshalb steht in eckigen Klammern eine 2 und keine 3.\n",
        "\n",
        "# Werte von zeile_3 ausgeben\n",
        "print(zeile_3)"
      ],
      "metadata": {
        "id": "JnoPYIy0uWGm"
      },
      "execution_count": null,
      "outputs": []
    },
    {
      "cell_type": "markdown",
      "source": [
        "###**Bestimmte Zelle ausgeben**"
      ],
      "metadata": {
        "id": "Csy2u4L3vLSu"
      }
    },
    {
      "cell_type": "code",
      "source": [
        "# Wert von Spalte 2 in Zeile 3 in der Variable mit Namen \"wert\" speichern\n",
        "wert = df.iloc[2, 1]    # --> .iloc[Zeile, Spalte]\n",
        "\n",
        "print(wert)"
      ],
      "metadata": {
        "id": "88SWXBxOv-hu"
      },
      "execution_count": null,
      "outputs": []
    },
    {
      "cell_type": "markdown",
      "source": [
        "#A U F G A B E N\n",
        "\n",
        "###Aufgabe 1\n",
        "\n",
        "Lade folgende Excel-Datei herunter:\n",
        "[Scores of swedish students](https://moodle.ki-campus.org/pluginfile.php/15939/mod_page/content/8/Scores%20of%20swedish%20students.xlsx)\n",
        "\n",
        "Importiere das Excel-Tabellenblatt Tabelle1 in ein Dataframe und gebe den Inhalt aus.\n",
        "\n",
        "###Aufgabe 2\n",
        "Speichere die dritte Zeile des in Aufgabe 1 importieren Dataframes in der Variable z und gebe z aus.\n",
        "\n",
        "###Aufgabe 3\n",
        "Lass den User einen Wert für die Zeile und einen Wert für die Spalte eingenben. Nutze die Eingaben, um den Wert der jeweiligen Zeile und Spalte in die Variable wert zu speichern. Gib die Variable wert am Bilsdchirm aus.\n",
        "\n",
        "\n"
      ],
      "metadata": {
        "id": "7FBQJV5H4olV"
      }
    }
  ]
}
