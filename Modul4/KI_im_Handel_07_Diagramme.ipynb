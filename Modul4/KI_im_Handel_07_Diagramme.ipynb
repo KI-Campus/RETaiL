{
  "nbformat": 4,
  "nbformat_minor": 0,
  "metadata": {
    "colab": {
      "provenance": []
    },
    "kernelspec": {
      "name": "python-RETaiL",
      "display_name": "Python 3"
    },
    "language_info": {
      "name": "python"
    }
  },
  "cells": [
    {
      "cell_type": "markdown",
      "source": [
        "#**Diagramme**"
      ],
      "metadata": {
        "id": "s_rqoaSvOFW6"
      }
    },
    {
      "cell_type": "markdown",
      "source": [
        "### DataFrame importieren"
      ],
      "metadata": {
        "id": "BfXM_VAgBx5Y"
      }
    },
    {
      "cell_type": "code",
      "execution_count": null,
      "metadata": {
        "id": "6GuOctqqgN1v"
      },
      "outputs": [],
      "source": [
        "import pandas as pd\n",
        "\n",
        "# URL der Farhzeugfrequenzen nach Fahrzeugtyp\n",
        "url = 'https://raw.githubusercontent.com/OJanz/PKW-Frequenzen/main/Frequenzen%20nach%20Fahrzeugtyp.csv'\n",
        "\n",
        "# Daten in Pandas Data Frame einlesen\n",
        "df = pd.read_csv(url)\n",
        "\n",
        "# Die ersten fünf Datensätze ausgeben\n",
        "print(df.head())\n",
        "print(df.shape)"
      ]
    },
    {
      "cell_type": "markdown",
      "source": [
        "###Analyse der A5"
      ],
      "metadata": {
        "id": "XWcKxyGSMJ9L"
      }
    },
    {
      "cell_type": "code",
      "source": [
        "# Filter the DataFrame to only include rows where Wochentag = \"So\"\n",
        "df_A5 = df[df['Autobahn'] == 'A5']\n",
        "\n",
        "print(df_A5.head())"
      ],
      "metadata": {
        "id": "WT-zVbFKw8HP"
      },
      "execution_count": null,
      "outputs": []
    },
    {
      "cell_type": "markdown",
      "source": [
        "###Kuchendiagramm\n",
        "Kuchendiagramm erzeugen, das die Anteile der Fahrzeugarten gegenüberstellt.\n",
        "\n",
        "---\n",
        "**PROMPT:** Das DataFrame df_A5 hat unter anderem die Spalten \"Fz-Typ\" und \"Fahrzeuge\".\n",
        "\n",
        "Die Spalte Fz-Typ gibt den Fahrzeugtyp an. die Spalte Fahrzeuge gibt die Anzahl der gezählten Fahrzeuge je Tag an.\n",
        "\n",
        "Ich möchte den Anteil der gezählten Fahrzeuge über alle Tage je Fahrzeugtyp berechnen und in einem Kuchendiagramm gegenüberstellen.\n",
        "\n",
        "Bitte erzeuge einen Beispielcode.\n",
        "\n",
        "---\n"
      ],
      "metadata": {
        "id": "bxmjF8zwKn6V"
      }
    },
    {
      "cell_type": "code",
      "source": [
        "# Nach 'Fz-Typ' gruppieren und Anteil der Fahrzeuge berechnen\n",
        "fahrzeuganteil = df_A5.groupby('Fz-Typ')['Fahrzeuge'].sum() / df_A5['Fahrzeuge'].sum() * 100\n",
        "\n",
        "print(fahrzeuganteil)\n",
        "print(type(fahrzeuganteil))"
      ],
      "metadata": {
        "id": "iXKQuHVNJi5h"
      },
      "execution_count": null,
      "outputs": []
    },
    {
      "cell_type": "code",
      "source": [
        "import matplotlib.pyplot as plt\n",
        "\n",
        "# Kuchendiagramm erstellen\n",
        "fahrzeuganteil.plot(kind='pie', autopct='%1.1f%%')\n",
        "plt.axis('equal')  # sorgt dafür, dass das Diagramm als Kreis dargestellt wird\n",
        "plt.ylabel('')  # entfernt die Beschriftung der y-Achse\n",
        "plt.show()"
      ],
      "metadata": {
        "id": "zvL32kBvITtU"
      },
      "execution_count": null,
      "outputs": []
    },
    {
      "cell_type": "markdown",
      "source": [
        "#A U F G A B E N\n",
        "\n",
        "###Aufgabe 1\n",
        "\n",
        "Ändere die Schriftgröße und die Farben des Kuchendiagramms im Notebook wie es Dir gefällt.\n",
        "\n",
        "###Aufgabe 2\n",
        "\n",
        "Stelle die Anteile in einem Säulendiagramm und in einer anderen Zelle in einem Balkendiagramm dar.\n",
        "\n",
        "Ziehe für beide Aufgaben eine KI zu Rate."
      ],
      "metadata": {
        "id": "UGO4Fn7yLTwH"
      }
    }
  ]
}
