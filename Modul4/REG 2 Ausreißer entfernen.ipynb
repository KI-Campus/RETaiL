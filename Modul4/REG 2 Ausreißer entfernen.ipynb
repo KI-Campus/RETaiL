{
 "cells": [
  {
   "cell_type": "markdown",
   "id": "3af87767",
   "metadata": {},
   "source": [
    "# Ausreißer eliminieren\n",
    "\n",
    "## <span style=\"color:red\">Schritt 1: Import des Atticus Finch Datensatzes von GitHub</span>"
   ]
  },
  {
   "cell_type": "code",
   "execution_count": 1,
   "id": "625df5b5",
   "metadata": {},
   "outputs": [
    {
     "name": "stdout",
     "output_type": "stream",
     "text": [
      "   Store-ID  Frequency  TiM   PPP  Central  Space  Sales\n",
      "0        59       4740  198   268     1.18    364    710\n",
      "1        60       7703  367  1314     1.10    802   2367\n",
      "2        61       9928  303  1046     1.62    926   2325\n",
      "3        62      10139  644  1290     1.46   1269   3284\n",
      "4        63      11170  902  1142     1.00   1149   2429\n"
     ]
    }
   ],
   "source": [
    "import pandas as pd\n",
    "\n",
    "# URL des Atticus Finch Datensatzes\n",
    "url = 'https://raw.githubusercontent.com/OJanz/AtticusFinch/main/AtticusFinchSalesData_v1.csv'  \n",
    "\n",
    "# Daten in Pandas Data Frame einlesen\n",
    "df = pd.read_csv(url)\n",
    "\n",
    "# Die ersten fünf Datensätze ausgeben\n",
    "print(df.head())"
   ]
  },
  {
   "cell_type": "markdown",
   "id": "b93e7efe",
   "metadata": {},
   "source": [
    "## <span style=\"color:red\">Schritt 2: Variablen auswählen, die bereinigt werden sollen</span>"
   ]
  },
  {
   "cell_type": "code",
   "execution_count": 2,
   "id": "21242153",
   "metadata": {},
   "outputs": [
    {
     "name": "stdout",
     "output_type": "stream",
     "text": [
      "   Frequency  Sales\n",
      "0       4740    710\n",
      "1       7703   2367\n",
      "2       9928   2325\n",
      "3      10139   3284\n",
      "4      11170   2429\n"
     ]
    }
   ],
   "source": [
    "# Liste mit Variablen, die bereinigt werden sollen\n",
    "variablen_bereinigen = ['Frequency', 'Sales'] \n",
    "\n",
    "# in df nur Variablen behalten, die in der Liste 'variablen_bereinigen' stehen\n",
    "df = df[variablen_bereinigen] \n",
    "\n",
    "print(df.head())"
   ]
  },
  {
   "cell_type": "markdown",
   "id": "a6bda11b",
   "metadata": {},
   "source": [
    "## <span style=\"color:red\">Schritt 3: Funktion zur Anwendung der IQR-Methode</span>\n",
    "Ausreißer mit Hilfe der Interquartile Range (IQR) Methode eliminieren"
   ]
  },
  {
   "cell_type": "code",
   "execution_count": 3,
   "id": "15b36a55",
   "metadata": {},
   "outputs": [],
   "source": [
    "#--------------------------------------------------------\n",
    "# FUNKTION ZUR ELIMINIERUNG VON AUSREISSERN\n",
    "#--------------------------------------------------------\n",
    "\n",
    "def remove_outliers_iqr(df):\n",
    "    \n",
    "    # IQR berechnen und die Grenzen für Ausreißer je Variable (Spalte) berechnen\n",
    "    Q1 = df.quantile(0.25)\n",
    "    Q3 = df.quantile(0.75)\n",
    "    IQR = Q3 - Q1\n",
    "    lower_bound = Q1 - 1.5 * IQR\n",
    "    upper_bound = Q3 + 1.5 * IQR\n",
    "\n",
    "    # Daten filtern, um Ausreißer zu entfernen\n",
    "    outliers = df[((df < lower_bound) | (df > upper_bound)).any(axis=1)]\n",
    "    \n",
    "    # DataFrame mit den Ausreißern erstellen\n",
    "    no_outliers = df[~df.index.isin(outliers.index)]\n",
    "\n",
    "    # bereinigte Daten und Ausreißer zurückgeben\n",
    "    return no_outliers, outliers"
   ]
  },
  {
   "cell_type": "markdown",
   "id": "0afdb27f",
   "metadata": {},
   "source": [
    "## <span style=\"color:red\">Schritt 4: Funktion aufrufen und Ausreißer entfernen</span>"
   ]
  },
  {
   "cell_type": "code",
   "execution_count": 4,
   "id": "87154b31",
   "metadata": {},
   "outputs": [
    {
     "name": "stdout",
     "output_type": "stream",
     "text": [
      "Anzahl eliminierter Stores: 13\n",
      "Anzahl Stores nach Bereinigung: 146\n"
     ]
    }
   ],
   "source": [
    "df_no_outliers, df_outliers = remove_outliers_iqr(df)\n",
    "\n",
    "print(f'Anzahl eliminierter Stores: {len(df_outliers)}')\n",
    "print(f'Anzahl Stores nach Bereinigung: {len(df_no_outliers)}')"
   ]
  },
  {
   "cell_type": "markdown",
   "id": "1cc2d9d9",
   "metadata": {},
   "source": [
    "## <span style=\"color:red\">Schritt 5: Bereinigte Daten und Ausreißer in Scatterplot visualisieren</span>"
   ]
  },
  {
   "cell_type": "code",
   "execution_count": 5,
   "id": "c610f838",
   "metadata": {},
   "outputs": [
    {
     "data": {
      "image/png": "[encoded data removed]",
      "text/plain": [
       "<Figure size 640x480 with 1 Axes>"
      ]
     },
     "metadata": {},
     "output_type": "display_data"
    }
   ],
   "source": [
    "import matplotlib.pyplot as plt\n",
    "%matplotlib inline\n",
    "\n",
    "\n",
    "# Scatterplot für bereinigte Daten\n",
    "plt.scatter(df_no_outliers['Frequency'], df_no_outliers['Sales'], color='blue')\n",
    "\n",
    "# Scatterplot für Ausreißer\n",
    "plt.scatter(df_outliers['Frequency'], df_outliers['Sales'], color='red')\n",
    "\n",
    "plt.xlabel('Frequency')\n",
    "plt.ylabel('Sales')\n",
    "\n",
    "# Zeige den Plot an\n",
    "plt.show()"
   ]
  },
  {
   "cell_type": "markdown",
   "id": "a5724783",
   "metadata": {},
   "source": [
    "## <span style=\"color:red\">Schritt 6: Einfluss der Maßnahme auf Modell-Parameter und Modellgüte berechnen</span>"
   ]
  },
  {
   "cell_type": "code",
   "execution_count": 6,
   "id": "bb784518",
   "metadata": {},
   "outputs": [
    {
     "name": "stdout",
     "output_type": "stream",
     "text": [
      "Regressionskoeffizienten:\n",
      "const       -56.922815\n",
      "Frequency     0.120091\n",
      "dtype: float64\n",
      "\n",
      "Mean Absolute Error (MAE): 1116.8488\n",
      "Root Mean Squared Error (RMSE): 1511.9747\n",
      "R-squared (R2): 0.6467\n"
     ]
    }
   ],
   "source": [
    "import statsmodels.api as sm\n",
    "from sklearn import metrics\n",
    "import numpy as np\n",
    "\n",
    "# Frequency als Prädiktor und Sales als abhängige Variable aus Data Frame auswählen\n",
    "X = df_no_outliers['Frequency']\n",
    "y = df_no_outliers['Sales']\n",
    "\n",
    "# Konstante hinzufügen um Achsenabschnitt schätzen zu können\n",
    "X = sm.add_constant(X)\n",
    "\n",
    "# Erstellen des linearen Regressionsmodells\n",
    "model = sm.OLS(y, X)\n",
    "results = model.fit()\n",
    "\n",
    "# Vorhersagen auf der Grundlage des Modells\n",
    "y_pred = results.predict(X)\n",
    "\n",
    "# Steigung und Achsenabschnitt ausgeben\n",
    "print(\"Regressionskoeffizienten:\")\n",
    "print(results.params)\n",
    "\n",
    "# Berechnen der Gütemaße\n",
    "print('\\nMean Absolute Error (MAE):', metrics.mean_absolute_error(y, y_pred).round(4))\n",
    "print('Root Mean Squared Error (RMSE):', np.sqrt(metrics.mean_squared_error(y, y_pred)).round(4))\n",
    "print('R-squared (R2):', metrics.r2_score(y, y_pred).round(4))"
   ]
  },
  {
   "cell_type": "markdown",
   "id": "fe891b35",
   "metadata": {},
   "source": [
    "| Kennzahl | vor Bereinigung | nach Bereinigung |\n",
    "|----------|-:|-:|\n",
    "| MAE      |1654|1117|\n",
    "| RMSE     |2562|1512|\n",
    "| R2       |0.6547|0.6467|"
   ]
  }
 ],
 "metadata": {
  "kernelspec": {
   "display_name": "Python 3 (ipykernel)",
   "language": "python",
   "name": "python3"
  },
  "language_info": {
   "codemirror_mode": {
    "name": "ipython",
    "version": 3
   },
   "file_extension": ".py",
   "mimetype": "text/x-python",
   "name": "python",
   "nbconvert_exporter": "python",
   "pygments_lexer": "ipython3",
   "version": "3.11.2"
  }
 },
 "nbformat": 4,
 "nbformat_minor": 5
}
