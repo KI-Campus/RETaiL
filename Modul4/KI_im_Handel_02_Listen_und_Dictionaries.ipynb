{
  "nbformat": 4,
  "nbformat_minor": 0,
  "metadata": {
    "colab": {
      "provenance": []
    },
    "kernelspec": {
      "name": "python-retail",
      "display_name": "Python-RETaiL"
    },
    "language_info": {
      "name": "python"
    }
  },
  "cells": [
    {
      "cell_type": "markdown",
      "source": [
        "###**Wichtige Datentypen**\n",
        "\n",
        "> **Integer** (int): Ganze Zahlen ohne Dezimalpunkt, z.B. 1, 100, -45.\n",
        "\n",
        "> **Floating Point Number** (float): Zahlen mit Dezimalpunkt, z.B. 1.0, 3.14, -0.001.\n",
        "\n",
        "> **String** (str): Eine Zeichenkette, z.B. \"Hallo Python\".\n",
        "\n",
        "> **List** (list): Sammlungen von Objekten, z.B. [5, 10.1, 'Hello Python'].\n",
        "\n",
        "> **Dictionary** (dict): Eine Sammlung von Schlüssel-Wert-Paaren, z.B. {'name': 'Alice', 'age': 25}.\n",
        "  \n",
        "<br>\n",
        "Jede Variable hat einen Datentyp. Im Beispiel oben sind das:\n",
        "\n",
        "text --> str\n",
        "\n",
        "a --> int\n",
        "\n",
        "b --> float\n",
        "\n",
        "<font color=\"red\">Welchen Datentyp hat die Variabble c?</font>\n",
        "\n",
        "---\n",
        "\n",
        "\n",
        "PROMPT: *Wie kann ich den Datentyp einer Variable in Python herausfinden?*\n",
        "\n",
        "\n",
        "---\n",
        "\n"
      ],
      "metadata": {
        "id": "7HuyRDL8RmS9"
      }
    },
    {
      "cell_type": "code",
      "source": [
        "a = 5\n",
        "b = 10.1\n",
        "c = a + b\n",
        "print(c)\n",
        "print(a*b+10)"
      ],
      "metadata": {
        "id": "kKZRB9K88Zjn"
      },
      "execution_count": null,
      "outputs": []
    },
    {
      "cell_type": "code",
      "source": [
        "print(type(text), type(a), type(b), type(c))"
      ],
      "metadata": {
        "id": "NfFAyeu9kbP1"
      },
      "execution_count": null,
      "outputs": []
    },
    {
      "cell_type": "markdown",
      "source": [
        "### **Listen in Python**\n",
        "\n",
        "\n",
        "---\n",
        "\n",
        "PROMPT: *Wie definiert man eine Liste in Python. Bitte gebe ein Beispiel.*\n",
        "\n",
        "---\n",
        "\n"
      ],
      "metadata": {
        "id": "9d3CMNL0k8lW"
      }
    },
    {
      "cell_type": "code",
      "source": [
        "# Eine Liste erstellen\n",
        "meine_liste = [1, 2, 3.5, \"vier\"]\n",
        "print(meine_liste)"
      ],
      "metadata": {
        "id": "2tnowalWlCt8"
      },
      "execution_count": null,
      "outputs": []
    },
    {
      "cell_type": "code",
      "source": [
        "print(meine_liste[0])"
      ],
      "metadata": {
        "id": "GOjHLve6liYH"
      },
      "execution_count": null,
      "outputs": []
    },
    {
      "cell_type": "code",
      "source": [
        "c = meine_liste[0]+a\n",
        "print(c)"
      ],
      "metadata": {
        "id": "hPjOvpaOlwj5"
      },
      "execution_count": null,
      "outputs": []
    },
    {
      "cell_type": "code",
      "source": [
        "print(type(meine_liste))"
      ],
      "metadata": {
        "id": "B6Zh1UA0l-GZ"
      },
      "execution_count": null,
      "outputs": []
    },
    {
      "cell_type": "markdown",
      "source": [
        "### **Dictionaries in Python**\n",
        "\n",
        "\n",
        "---\n",
        "\n",
        "PROMPT: *Python: Was ist ein Dictionary? Wie definiert man ein Dictionary? Wie greift man auf die Werte eines Dictionaries zu? Mache ein ausführliches Beispiel.*\n",
        "\n",
        "---\n",
        "\n"
      ],
      "metadata": {
        "id": "b2RcUpFsmDGv"
      }
    },
    {
      "cell_type": "code",
      "source": [
        "# creating a dictionary\n",
        "student_grades = { \"Alice\": 90, \"Bob\": 80, \"Charlie\": 95 }\n",
        "\n",
        "# printing the dictionary\n",
        "print(student_grades)"
      ],
      "metadata": {
        "id": "1E1zYmxEmPkL"
      },
      "execution_count": null,
      "outputs": []
    },
    {
      "cell_type": "code",
      "source": [
        "# accessing a value using key\n",
        "print(student_grades[\"Alice\"])"
      ],
      "metadata": {
        "id": "4XF2swx0nOYp"
      },
      "execution_count": null,
      "outputs": []
    },
    {
      "cell_type": "code",
      "source": [
        "# adding a new key-value pair\n",
        "student_grades[\"David\"] = 85\n",
        "\n",
        "# printing the updated dictionary\n",
        "print(student_grades)"
      ],
      "metadata": {
        "id": "d9BnnMofnUiq"
      },
      "execution_count": null,
      "outputs": []
    },
    {
      "cell_type": "code",
      "source": [
        "# removing a key-value pair\n",
        "del student_grades[\"Bob\"]\n",
        "\n",
        "# printing the updated dictionary\n",
        "print(student_grades)"
      ],
      "metadata": {
        "id": "ddlUQM4HnZWn"
      },
      "execution_count": null,
      "outputs": []
    },
    {
      "cell_type": "markdown",
      "source": [
        "#A U F G A B E N\n",
        "\n",
        "###Aufgabe 1\n",
        "\n",
        "Hier die Definition von zwei Listen:\n",
        "\n",
        "L1 = [5, 7, 2, 9, 3, 10]\n",
        "\n",
        "L2 = [12, 56, 23, 45, 11, 65]\n",
        "\n",
        "Kopiere die beiden Listen in Dein Notebook. Schreibe einen Code, der den 3. Eintrag von L1 und den 2. Eintrag von L2 addiert. Speichere das Ergebnis in der Variable Erg. Gebe die Variable Erg am Bildschirm aus und kontrolliere das Ergebnis. Es sollte 58 herauskommen.\n",
        "\n",
        "\n",
        "### Aufgabe 2\n",
        "Erstelle zwei Listen in Python. Die erste Liste soll color1 heißen und die Werte \"Rot\", \"Grün\" und \"Blau\" enthalten. Die zweite Liste soll color2 heißen und die Werte \"Lila\", \"Rosa\" und \"Orange\" enthalten. Drucke beide Listen am Bilsdschirm aus. Schreibe dann einen Code, der beide Listen in der Liste all_colors vereint. Drucke die Liste all_colors aus.\n",
        "\n"
      ],
      "metadata": {
        "id": "MarCuBWhrCaG"
      }
    }
  ]
}
