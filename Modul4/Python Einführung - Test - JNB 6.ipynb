{
 "cells": [
  {
   "cell_type": "markdown",
   "id": "e837625b",
   "metadata": {},
   "source": [
    "###### Anwendungsbezogenes Python - Test \n",
    "\n",
    "### Pivot-Tabelle erstellen\n",
    "\n",
    "Bitte lasse die folgenden beiden Code-Zellen laufen (Run oder Strg + Eingabe)"
   ]
  },
  {
   "cell_type": "code",
   "execution_count": null,
   "id": "cd88bd64",
   "metadata": {},
   "outputs": [],
   "source": [
    "import pandas as pd"
   ]
  },
  {
   "cell_type": "code",
   "execution_count": null,
   "id": "24cd63ea",
   "metadata": {},
   "outputs": [],
   "source": [
    "df = pd.read_csv(r'https://raw.githubusercontent.com/'+chr(79)+chr(74)+chr(97)+chr(110)+chr(122)+'/Eisbude/main/Eisbude2.csv')"
   ]
  },
  {
   "cell_type": "markdown",
   "id": "b66f2bb4",
   "metadata": {},
   "source": [
    "\n",
    "Nachedm die beiden Zellen oben ausgeführt wurden, ist jetzt das DataFrame **df** verfügbar. \n",
    "\n",
    "Das DataFrame **df** enthält die Felder (Spalten) Eiscremesorte, Verkäufer und Absatz. Die einzigen beiden Verkäufer sind Josef und Klaus. Der Absatz gibt die Anzahl der verkauften Eiskugeln an.\n",
    "\n",
    "Wenn Du den print-Befehl in der nächsten Zelle ausführst, erhältst Du einen Eindruck von den Daten."
   ]
  },
  {
   "cell_type": "code",
   "execution_count": null,
   "id": "eca5f9dd",
   "metadata": {
    "scrolled": false
   },
   "outputs": [],
   "source": [
    "print(df.head())"
   ]
  },
  {
   "cell_type": "markdown",
   "id": "2bd4ba10",
   "metadata": {},
   "source": [
    "### Aufgabe\n",
    "\n",
    "Erstelle eine Pivot-Tabelle, in der die Eiscremesorten in den Zeilen und die Verkäufer in den Spalten stehen. In den Zellen soll der jeweilige Absatz ablesbar sein.\n",
    "\n",
    "Gebe die Pivottabelle am Bildschrim aus und schaue sie Dir genau an. \n",
    "\n",
    "Finde heraus, bei welcher Eiscremesorte die beiden Verkäufer exakt den gleichen Absatz erzielt haben.\n",
    "\n",
    "Trage die Sorte in Moodle ein."
   ]
  },
  {
   "cell_type": "code",
   "execution_count": null,
   "id": "0ede27e4",
   "metadata": {},
   "outputs": [],
   "source": []
  },
  {
   "cell_type": "code",
   "execution_count": null,
   "id": "a2163973",
   "metadata": {},
   "outputs": [],
   "source": []
  },
  {
   "cell_type": "code",
   "execution_count": null,
   "id": "33ad636a",
   "metadata": {},
   "outputs": [],
   "source": []
  },
  {
   "cell_type": "code",
   "execution_count": null,
   "id": "c5f9899e",
   "metadata": {},
   "outputs": [],
   "source": []
  },
  {
   "cell_type": "code",
   "execution_count": null,
   "id": "d2a83f7f",
   "metadata": {},
   "outputs": [],
   "source": []
  },
  {
   "cell_type": "code",
   "execution_count": null,
   "id": "f7e01bcb",
   "metadata": {},
   "outputs": [],
   "source": []
  },
  {
   "cell_type": "code",
   "execution_count": null,
   "id": "71910dfb",
   "metadata": {},
   "outputs": [],
   "source": []
  }
 ],
 "metadata": {
  "kernelspec": {
   "display_name": "Python 3 (ipykernel)",
   "language": "python",
   "name": "python-RETaiL"
  },
  "language_info": {
   "codemirror_mode": {
    "name": "ipython",
    "version": 3
   },
   "file_extension": ".py",
   "mimetype": "text/x-python",
   "name": "python",
   "nbconvert_exporter": "python",
   "pygments_lexer": "ipython3",
   "version": "3.11.5"
  }
 },
 "nbformat": 4,
 "nbformat_minor": 5
}
