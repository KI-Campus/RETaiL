{
 "cells": [
  {
   "cell_type": "markdown",
   "id": "3af87767",
   "metadata": {},
   "source": [
    "# Modell trainieren, validieren, testen\n",
    "\n",
    "## <span style=\"color:red\">Schritt 1: Import des Atticus Finch Datensatzes von GitHub</span>"
   ]
  },
  {
   "cell_type": "code",
   "execution_count": 1,
   "id": "625df5b5",
   "metadata": {},
   "outputs": [
    {
     "data": {
      "text/html": [
       "<div>\n",
       "<style scoped>\n",
       "    .dataframe tbody tr th:only-of-type {\n",
       "        vertical-align: middle;\n",
       "    }\n",
       "\n",
       "    .dataframe tbody tr th {\n",
       "        vertical-align: top;\n",
       "    }\n",
       "\n",
       "    .dataframe thead th {\n",
       "        text-align: right;\n",
       "    }\n",
       "</style>\n",
       "<table border=\"1\" class=\"dataframe\">\n",
       "  <thead>\n",
       "    <tr style=\"text-align: right;\">\n",
       "      <th></th>\n",
       "      <th>Frequency</th>\n",
       "      <th>Space</th>\n",
       "      <th>Sales</th>\n",
       "    </tr>\n",
       "  </thead>\n",
       "  <tbody>\n",
       "    <tr>\n",
       "      <th>0</th>\n",
       "      <td>4740</td>\n",
       "      <td>364</td>\n",
       "      <td>710</td>\n",
       "    </tr>\n",
       "    <tr>\n",
       "      <th>1</th>\n",
       "      <td>7703</td>\n",
       "      <td>802</td>\n",
       "      <td>2367</td>\n",
       "    </tr>\n",
       "    <tr>\n",
       "      <th>2</th>\n",
       "      <td>9928</td>\n",
       "      <td>926</td>\n",
       "      <td>2325</td>\n",
       "    </tr>\n",
       "    <tr>\n",
       "      <th>3</th>\n",
       "      <td>10139</td>\n",
       "      <td>1269</td>\n",
       "      <td>3284</td>\n",
       "    </tr>\n",
       "    <tr>\n",
       "      <th>4</th>\n",
       "      <td>11170</td>\n",
       "      <td>1149</td>\n",
       "      <td>2429</td>\n",
       "    </tr>\n",
       "    <tr>\n",
       "      <th>...</th>\n",
       "      <td>...</td>\n",
       "      <td>...</td>\n",
       "      <td>...</td>\n",
       "    </tr>\n",
       "    <tr>\n",
       "      <th>154</th>\n",
       "      <td>84673</td>\n",
       "      <td>3426</td>\n",
       "      <td>16850</td>\n",
       "    </tr>\n",
       "    <tr>\n",
       "      <th>155</th>\n",
       "      <td>87728</td>\n",
       "      <td>3772</td>\n",
       "      <td>27607</td>\n",
       "    </tr>\n",
       "    <tr>\n",
       "      <th>156</th>\n",
       "      <td>88889</td>\n",
       "      <td>3772</td>\n",
       "      <td>27607</td>\n",
       "    </tr>\n",
       "    <tr>\n",
       "      <th>157</th>\n",
       "      <td>90824</td>\n",
       "      <td>3590</td>\n",
       "      <td>9387</td>\n",
       "    </tr>\n",
       "    <tr>\n",
       "      <th>158</th>\n",
       "      <td>120291</td>\n",
       "      <td>2398</td>\n",
       "      <td>14443</td>\n",
       "    </tr>\n",
       "  </tbody>\n",
       "</table>\n",
       "<p>159 rows × 3 columns</p>\n",
       "</div>"
      ],
      "text/plain": [
       "     Frequency  Space  Sales\n",
       "0         4740    364    710\n",
       "1         7703    802   2367\n",
       "2         9928    926   2325\n",
       "3        10139   1269   3284\n",
       "4        11170   1149   2429\n",
       "..         ...    ...    ...\n",
       "154      84673   3426  16850\n",
       "155      87728   3772  27607\n",
       "156      88889   3772  27607\n",
       "157      90824   3590   9387\n",
       "158     120291   2398  14443\n",
       "\n",
       "[159 rows x 3 columns]"
      ]
     },
     "execution_count": 1,
     "metadata": {},
     "output_type": "execute_result"
    }
   ],
   "source": [
    "import pandas as pd\n",
    "\n",
    "# URL des Atticus Finch Datensatzes\n",
    "url = 'https://raw.githubusercontent.com/OJanz/AtticusFinch/main/AtticusFinchSalesData_v1.csv'  \n",
    "\n",
    "# Daten in Pandas Data Frame einlesen\n",
    "df = pd.read_csv(url)\n",
    "\n",
    "# Liste mit variablen, die bereinigt werden sollen\n",
    "variablen_bereinigen = ['Frequency', 'Space', 'Sales'] \n",
    "\n",
    "# in df nur Variablen behalten, die in der Liste 'variablen_bereinigen' stehen\n",
    "df = df[variablen_bereinigen] \n",
    "\n",
    "df\n"
   ]
  },
  {
   "cell_type": "markdown",
   "id": "b61adca6",
   "metadata": {},
   "source": [
    "## <span style=\"color:red\">Schritt 2: Ausreißer eliminieren</span>"
   ]
  },
  {
   "cell_type": "code",
   "execution_count": 2,
   "id": "e413f865",
   "metadata": {},
   "outputs": [],
   "source": [
    "#--------------------------------------------------------\n",
    "# FUNKTION ZUR ELIMINIERUNG VON AUSREISSERN\n",
    "#--------------------------------------------------------\n",
    "\n",
    "def remove_outliers_iqr(df):\n",
    "    \n",
    "    # IQR berechnen und die Grenzen für Ausreißer je Variable (Spalte) berechnen\n",
    "    Q1 = df.quantile(0.25)\n",
    "    Q3 = df.quantile(0.75)\n",
    "    IQR = Q3 - Q1\n",
    "    lower_bound = Q1 - 1.5 * IQR\n",
    "    upper_bound = Q3 + 1.5 * IQR\n",
    "\n",
    "    # Daten filtern, um Ausreißer zu entfernen\n",
    "    outliers = df[((df < lower_bound) | (df > upper_bound)).any(axis=1)]\n",
    "    \n",
    "    # DataFrame mit den Ausreißern erstellen\n",
    "    no_outliers = df[~df.index.isin(outliers.index)]\n",
    "\n",
    "    # bereinigte Daten und Ausreißer zurückgeben\n",
    "    return no_outliers, outliers"
   ]
  },
  {
   "cell_type": "code",
   "execution_count": 3,
   "id": "ce6a60e5",
   "metadata": {},
   "outputs": [
    {
     "name": "stdout",
     "output_type": "stream",
     "text": [
      "Anzahl eliminierter Stores: 21\n",
      "Anzahl Stores nach Bereinigung: 138\n"
     ]
    }
   ],
   "source": [
    "df_no_outliers, df_outliers = remove_outliers_iqr(df)\n",
    "\n",
    "df = df_no_outliers\n",
    "\n",
    "print(f'Anzahl eliminierter Stores: {len(df_outliers)}')\n",
    "print(f'Anzahl Stores nach Bereinigung: {len(df_no_outliers)}')"
   ]
  },
  {
   "cell_type": "markdown",
   "id": "15388780",
   "metadata": {},
   "source": [
    "## <span style=\"color:red\">Schritt 3: Train-, Validate-, Test-Split</span>"
   ]
  },
  {
   "cell_type": "code",
   "execution_count": 4,
   "id": "859735b9",
   "metadata": {},
   "outputs": [
    {
     "name": "stdout",
     "output_type": "stream",
     "text": [
      "Umfang Train-Set: 82\n",
      "Umfang Validation-Set: 28\n",
      "Umfang Test-Set: 28\n"
     ]
    }
   ],
   "source": [
    "from sklearn.model_selection import train_test_split\n",
    "\n",
    "# Prädiktoren und abhängige Variable X bzw. y zuordnen\n",
    "X = df[['Frequency', 'Space']]\n",
    "y = df['Sales']\n",
    "\n",
    "# Daten in Train-, Validation- und Test-Set splitten\n",
    "X_train, X_test, y_train, y_test = train_test_split(X, y, test_size=0.2, random_state=42)\n",
    "X_train, X_val, y_train, y_val = train_test_split(X_train, y_train, test_size=0.25, random_state=42) # 0.25 x 0.8 = 0.2\n",
    "\n",
    "print(f'Umfang Train-Set: {len(X_train)}')\n",
    "print(f'Umfang Validation-Set: {len(X_val)}')\n",
    "print(f'Umfang Test-Set: {len(X_test)}')"
   ]
  },
  {
   "cell_type": "markdown",
   "id": "dd9405e4",
   "metadata": {},
   "source": [
    "## <span style=\"color:red\">Schritt 4: Scaling der Prädiktoren</span>"
   ]
  },
  {
   "cell_type": "code",
   "execution_count": 5,
   "id": "5539bad7",
   "metadata": {
    "scrolled": true
   },
   "outputs": [
    {
     "name": "stdout",
     "output_type": "stream",
     "text": [
      "Mittelwerte der Prädiktoren in X_train: [ 0. -0.]\n",
      "Standardabweichung der Prädiktoren in X_train: [1. 1.]\n",
      "\n",
      "Mittelwerte der Prädiktoren in X_val: [ 0.2  -0.04]\n",
      "Standardabweichung der Prädiktoren in X_val: [0.99 0.92]\n",
      "\n",
      "Mittelwerte der Prädiktoren in X_test: [ 0.2  -0.04]\n",
      "Standardabweichung der Prädiktoren in X_test: [0.99 0.92]\n"
     ]
    }
   ],
   "source": [
    "import numpy as np\n",
    "from sklearn.preprocessing import StandardScaler\n",
    "\n",
    "# Feature-Scaling durchführen (Prädiktoren standardisieren)\n",
    "scaler = StandardScaler()\n",
    "X_train = scaler.fit_transform(X_train) # Scaler auf X_train anpassen\n",
    "\n",
    "# Auf X_train berechneten Scaler auf X_val und X_test anwenden\n",
    "X_val = scaler.transform(X_val)\n",
    "X_test = scaler.transform(X_test)\n",
    "\n",
    "print(f'Mittelwerte der Prädiktoren in X_train: {np.mean(X_train, axis=0).round(2)}')\n",
    "print(f'Standardabweichung der Prädiktoren in X_train: {np.std(X_train, axis=0).round(2)}')\n",
    "\n",
    "print(f'\\nMittelwerte der Prädiktoren in X_val: {np.mean(X_val, axis=0).round(2)}')\n",
    "print(f'Standardabweichung der Prädiktoren in X_val: {np.std(X_val, axis=0).round(2)}')\n",
    "\n",
    "print(f'\\nMittelwerte der Prädiktoren in X_test: {np.mean(X_val, axis=0).round(2)}')\n",
    "print(f'Standardabweichung der Prädiktoren in X_test: {np.std(X_val, axis=0).round(2)}')"
   ]
  },
  {
   "cell_type": "markdown",
   "id": "cf670164",
   "metadata": {},
   "source": [
    "## <span style=\"color:red\">Schritt 5: Modelle trainieren und validieren</span>"
   ]
  },
  {
   "cell_type": "code",
   "execution_count": 7,
   "id": "97a1795c",
   "metadata": {},
   "outputs": [],
   "source": [
    "# Verschiedene lineare Regressionsmodelle importieren\n",
    "from sklearn.linear_model import LinearRegression\n",
    "from sklearn.ensemble import RandomForestRegressor\n",
    "from sklearn.ensemble import GradientBoostingRegressor\n",
    "\n",
    "# Funktionen zur Berechnung der Gütemaße importieren\n",
    "from sklearn.metrics import mean_absolute_error, mean_squared_error, r2_score"
   ]
  },
  {
   "cell_type": "code",
   "execution_count": 8,
   "id": "aa605e95",
   "metadata": {},
   "outputs": [
    {
     "name": "stdout",
     "output_type": "stream",
     "text": [
      "Validation MAE: 863.6205\n",
      "Validation RMSE: 1039.7586\n",
      "Validation Adjusted R2: 0.7647\n"
     ]
    }
   ],
   "source": [
    "# LINEAR REGRESSION\n",
    "# ---------------------------\n",
    "\n",
    "# Modell trainieren\n",
    "model = LinearRegression()\n",
    "model.fit(X_train, y_train)\n",
    "\n",
    "# Validiere das Modell\n",
    "y_val_pred = model.predict(X_val)\n",
    "print('Validation MAE:', mean_absolute_error(y_val, y_val_pred).round(4))\n",
    "print('Validation RMSE:', np.sqrt(mean_squared_error(y_val, y_val_pred)).round(4))\n",
    "\n",
    "# Berechnung von Adjusted R2\n",
    "r2 = r2_score(y_val, y_val_pred)\n",
    "n = X_val.shape[0]  # Anzahl der Beobachtungen\n",
    "p = X_val.shape[1]  # Anzahl der Prädiktoren\n",
    "adjusted_r2 = 1 - (1 - r2) * (n - 1) / (n - p - 1)\n",
    "print('Validation Adjusted R2:', adjusted_r2.round(4))"
   ]
  },
  {
   "cell_type": "code",
   "execution_count": 9,
   "id": "c55871ca",
   "metadata": {},
   "outputs": [
    {
     "name": "stdout",
     "output_type": "stream",
     "text": [
      "Validation MAE: 682.1264\n",
      "Validation RMSE: 785.1711\n",
      "Validation Adjusted R2: 0.8658\n"
     ]
    }
   ],
   "source": [
    "# RANDOM FORREST\n",
    "# ---------------------------\n",
    "\n",
    "# Modell trainieren\n",
    "model = RandomForestRegressor()\n",
    "model.fit(X_train, y_train)\n",
    "\n",
    "# Validiere das Modell\n",
    "y_val_pred = model.predict(X_val)\n",
    "print('Validation MAE:', mean_absolute_error(y_val, y_val_pred).round(4))\n",
    "print('Validation RMSE:', np.sqrt(mean_squared_error(y_val, y_val_pred)).round(4))\n",
    "\n",
    "# Berechnung von Adjusted R2\n",
    "r2 = r2_score(y_val, y_val_pred)\n",
    "n = X_val.shape[0]  # Anzahl der Beobachtungen\n",
    "p = X_val.shape[1]  # Anzahl der Prädiktoren\n",
    "adjusted_r2 = 1 - (1 - r2) * (n - 1) / (n - p - 1)\n",
    "print('Validation Adjusted R2:', adjusted_r2.round(4))"
   ]
  },
  {
   "cell_type": "code",
   "execution_count": 10,
   "id": "b4a39f78",
   "metadata": {},
   "outputs": [
    {
     "name": "stdout",
     "output_type": "stream",
     "text": [
      "Validation MAE: 586.3782\n",
      "Validation RMSE: 742.4168\n",
      "Validation Adjusted R2: 0.88\n"
     ]
    }
   ],
   "source": [
    "# GRADIENT BOOSTING\n",
    "# ---------------------------\n",
    "\n",
    "# Modell trainieren\n",
    "model = GradientBoostingRegressor()\n",
    "model.fit(X_train, y_train)\n",
    "\n",
    "# Validiere das Modell\n",
    "y_val_pred = model.predict(X_val)\n",
    "print('Validation MAE:', mean_absolute_error(y_val, y_val_pred).round(4))\n",
    "print('Validation RMSE:', np.sqrt(mean_squared_error(y_val, y_val_pred)).round(4))\n",
    "\n",
    "# Berechnung von Adjusted R2\n",
    "r2 = r2_score(y_val, y_val_pred)\n",
    "n = X_val.shape[0]  # Anzahl der Beobachtungen\n",
    "p = X_val.shape[1]  # Anzahl der Prädiktoren\n",
    "adjusted_r2 = 1 - (1 - r2) * (n - 1) / (n - p - 1)\n",
    "print('Validation Adjusted R2:', adjusted_r2.round(4))"
   ]
  },
  {
   "cell_type": "markdown",
   "id": "1ed41ff5",
   "metadata": {},
   "source": [
    "## <span style=\"color:red\">Schritt 6: Modell testen</span>"
   ]
  },
  {
   "cell_type": "code",
   "execution_count": 11,
   "id": "c8746605",
   "metadata": {},
   "outputs": [
    {
     "name": "stdout",
     "output_type": "stream",
     "text": [
      "Test MAE: 574.77\n",
      "Test RMSE: 727.0143\n",
      "Validation Adjusted R2: 0.8439\n"
     ]
    }
   ],
   "source": [
    "# Teste das Modell\n",
    "y_test_pred = model.predict(X_test)\n",
    "print('Test MAE:', mean_absolute_error(y_test, y_test_pred).round(4))\n",
    "print('Test RMSE:', np.sqrt(mean_squared_error(y_test, y_test_pred)).round(4))\n",
    "\n",
    "# Berechnung von Adjusted R2\n",
    "r2 = r2_score(y_test, y_test_pred)\n",
    "n = X_val.shape[0]  # Anzahl der Beobachtungen\n",
    "p = X_val.shape[1]  # Anzahl der Prädiktoren\n",
    "adjusted_r2 = 1 - (1 - r2) * (n - 1) / (n - p - 1)\n",
    "print('Validation Adjusted R2:', adjusted_r2.round(4))"
   ]
  },
  {
   "cell_type": "markdown",
   "id": "8b032e87",
   "metadata": {},
   "source": [
    "## <span style=\"color:red\">Schritt 7: Umsatzprognose für neue Stores</span>"
   ]
  },
  {
   "cell_type": "code",
   "execution_count": 12,
   "id": "83f8efde",
   "metadata": {},
   "outputs": [
    {
     "name": "stdout",
     "output_type": "stream",
     "text": [
      "Vorhersage für neue Werte: [6018. 4591.]\n"
     ]
    }
   ],
   "source": [
    "# Vorhersage für neue Stores\n",
    "new_Stores = pd.DataFrame([[45000, 1500], [40000, 1700]], columns=['Frequency', 'Space'])  \n",
    "\n",
    "# Auf X_train berechneten Scaler auf new_Stores anwenden\n",
    "new_Stores = scaler.transform(new_Stores)  # Feature Scaling\n",
    "\n",
    "vorhersage = model.predict(new_Stores)\n",
    "print('Vorhersage für neue Werte:', vorhersage.round(0))\n"
   ]
  }
 ],
 "metadata": {
  "kernelspec": {
   "display_name": "Python 3 (ipykernel)",
   "language": "python",
   "name": "python-RETaiL"
  },
  "language_info": {
   "codemirror_mode": {
    "name": "ipython",
    "version": 3
   },
   "file_extension": ".py",
   "mimetype": "text/x-python",
   "name": "python",
   "nbconvert_exporter": "python",
   "pygments_lexer": "ipython3",
   "version": "3.11.2"
  }
 },
 "nbformat": 4,
 "nbformat_minor": 5
}
