{
 "cells": [
  {
   "cell_type": "markdown",
   "id": "00836075",
   "metadata": {},
   "source": [
    "# Clustering"
   ]
  },
  {
   "cell_type": "markdown",
   "id": "41e62675",
   "metadata": {},
   "source": [
    "## Import des Datensatzes"
   ]
  },
  {
   "cell_type": "code",
   "execution_count": 1,
   "id": "1c7f0190",
   "metadata": {},
   "outputs": [],
   "source": [
    "# Importieren der notwendigen Bibliothek für die Datenverarbeitung\n",
    "import pandas as pd\n",
    "\n",
    "# Spezifizieren der URL, von der der Datensatz geladen wird\n",
    "url = 'https://raw.githubusercontent.com/johanneskolb/ki-kurs-clustering/main/datensatz_clustering.csv'\n",
    "\n",
    "# Einlesen des Datensatzes von der angegebenen URL in einen Pandas DataFrame\n",
    "# Das Trennzeichen für die Daten ist ein Semikolon (;)\n",
    "df = pd.read_csv(url, sep=';')"
   ]
  },
  {
   "cell_type": "markdown",
   "id": "2c05dfa6",
   "metadata": {},
   "source": [
    "## Datensatz bereinigen"
   ]
  },
  {
   "cell_type": "code",
   "execution_count": 2,
   "id": "e2a523c8",
   "metadata": {},
   "outputs": [
    {
     "name": "stdout",
     "output_type": "stream",
     "text": [
      "Anzahl der NaN-Werte pro Spalte:\n",
      " name                  0\n",
      "alter                 0\n",
      "nettoeinkommen_eur    0\n",
      "dtype: int64\n"
     ]
    }
   ],
   "source": [
    "# Ausgeben der Anzahl von NaN-Werten in jeder Spalte des DataFrames\n",
    "nan_counts = df.isna().sum()\n",
    "print(\"Anzahl der NaN-Werte pro Spalte:\\n\", nan_counts)\n",
    "\n",
    "# Entfernen von Zeilen, die NaN-Werte enthalten, und Änderungen direkt im bestehenden DataFrame anwenden\n",
    "df.dropna(inplace=True)\n"
   ]
  },
  {
   "cell_type": "markdown",
   "id": "a2933341",
   "metadata": {},
   "source": [
    "## Erste Dateninspektion"
   ]
  },
  {
   "cell_type": "code",
   "execution_count": 3,
   "id": "d1d09cc6",
   "metadata": {},
   "outputs": [
    {
     "name": "stdout",
     "output_type": "stream",
     "text": [
      "Erste fünf Zeilen des Datensatzes:\n",
      "     name  alter  nettoeinkommen_eur\n",
      "0  Felix     77                7573\n",
      "1   Amir     77                6864\n",
      "2  Anton     75                3048\n",
      "3   Sara     22                2854\n",
      "4    Lio     67                4872\n",
      "\n",
      "Dimensionen des Datensatzes (Zeilen, Spalten): (80, 3)\n",
      "\n",
      "Statistische Zusammenfassung der Variablen:\n",
      "           alter  nettoeinkommen_eur\n",
      "count  80.00000           80.000000\n",
      "mean   51.00000         5546.662500\n",
      "std    17.97537         2330.259832\n",
      "min    21.00000         1561.000000\n",
      "25%    36.00000         3287.000000\n",
      "50%    49.50000         5630.000000\n",
      "75%    64.25000         7423.500000\n",
      "max    84.00000         9414.000000\n"
     ]
    }
   ],
   "source": [
    "# Ausgeben der ersten fünf Zeilen des DataFrames\n",
    "print(\"Erste fünf Zeilen des Datensatzes:\\n\", df.head())\n",
    "\n",
    "# Ausgeben der Dimensionen des DataFrames (Anzahl der Zeilen und Spalten)\n",
    "print(\"\\nDimensionen des Datensatzes (Zeilen, Spalten):\", df.shape)\n",
    "\n",
    "# Generieren und Ausgeben einer statistischen Zusammenfassung des DataFrames\n",
    "# Dies umfasst Maßnahmen wie den Durchschnitt, den Median und die Standardabweichung für jede Spalte\n",
    "print(\"\\nStatistische Zusammenfassung der Variablen:\\n\", df.describe())\n"
   ]
  },
  {
   "cell_type": "markdown",
   "id": "89649ab1",
   "metadata": {},
   "source": [
    "## Daten skalieren"
   ]
  },
  {
   "cell_type": "code",
   "execution_count": 4,
   "id": "1779e62f",
   "metadata": {},
   "outputs": [
    {
     "name": "stdout",
     "output_type": "stream",
     "text": [
      "Erste fünf Zeilen des zentrierten und skalierten Datensatzes:\n",
      "     name  alter  nettoeinkommen_eur  nettoeinkommen_eur_t   alter_t\n",
      "0  Felix     77                7573              0.875062  1.455549\n",
      "1   Amir     77                6864              0.568885  1.455549\n",
      "2  Anton     75                3048             -1.079033  1.343584\n",
      "3   Sara     22                2854             -1.162811 -1.623497\n",
      "4    Lio     67                4872             -0.291349  0.895723\n"
     ]
    }
   ],
   "source": [
    "#Stellt sicher, dass alle Features auf der gleichen Skala sind\n",
    "\n",
    "# Importieren der StandardScaler-Klasse zur Durchführung der z-Score-Normalisierung\n",
    "from sklearn.preprocessing import StandardScaler\n",
    "\n",
    "# Erstellen einer Instanz des StandardScaler\n",
    "scaler = StandardScaler()\n",
    "\n",
    "# Anwenden des StandardScalers auf die Spalten 'nettoeinkommen_eur' und 'alter'\n",
    "# Dies zentriert und skaliert die Daten, sodass sie einen Mittelwert von 0 und eine Standardabweichung von 1 haben\n",
    "df[['nettoeinkommen_eur_t', 'alter_t']] = scaler.fit_transform(df[['nettoeinkommen_eur', 'alter']])\n",
    "\n",
    "# Ausgeben der ersten fünf Zeilen des aktualisierten DataFrames zur Überprüfung\n",
    "print(\"Erste fünf Zeilen des zentrierten und skalierten Datensatzes:\\n\", df.head())"
   ]
  },
  {
   "cell_type": "markdown",
   "id": "f957f3c1",
   "metadata": {},
   "source": [
    "## Skalierten Datensatz visualisieren"
   ]
  },
  {
   "cell_type": "code",
   "execution_count": 5,
   "id": "1cbea2d6",
   "metadata": {},
   "outputs": [
    {
     "data": {
      "image/png": "[encoded data removed]",
      "text/plain": [
       "<Figure size 640x480 with 1 Axes>"
      ]
     },
     "metadata": {},
     "output_type": "display_data"
    }
   ],
   "source": [
    "# Importieren der notwendigen Bibliothek für die Datenvisualisierung\n",
    "import matplotlib.pyplot as plt\n",
    "\n",
    "# Konfigurieren von Jupyter Notebook, um Plots direkt im Notebook anzuzeigen\n",
    "%matplotlib inline\n",
    "\n",
    "# Erstellen eines Scatterplots für die Datenpunkte in den Spalten 'alter' und 'nettoeinkommen_eur'\n",
    "plt.scatter(df['alter_t'], df['nettoeinkommen_eur_t'])\n",
    "\n",
    "# Hinzufügen von Achsenbeschriftungen\n",
    "plt.xlabel('Alter')\n",
    "plt.ylabel('Nettoeinkommen in EUR/Monat')\n",
    "\n",
    "# Setzen eines Titels für den Scatterplot\n",
    "plt.title('Scatterplot: Alter und Nettoeinkommen der Kunden')\n",
    "\n",
    "# Anzeigen des Scatterplots\n",
    "plt.show()"
   ]
  }
 ],
 "metadata": {
  "kernelspec": {
   "display_name": "Python 3 (ipykernel)",
   "language": "python",
   "name": "python3"
  },
  "language_info": {
   "codemirror_mode": {
    "name": "ipython",
    "version": 3
   },
   "file_extension": ".py",
   "mimetype": "text/x-python",
   "name": "python",
   "nbconvert_exporter": "python",
   "pygments_lexer": "ipython3",
   "version": "3.9.13"
  }
 },
 "nbformat": 4,
 "nbformat_minor": 5
}
