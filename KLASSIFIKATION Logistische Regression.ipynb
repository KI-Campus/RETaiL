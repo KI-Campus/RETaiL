{
 "cells": [
  {
   "cell_type": "markdown",
   "id": "3afbdd1c",
   "metadata": {},
   "source": [
    "# Logistische Regression"
   ]
  },
  {
   "cell_type": "markdown",
   "id": "981c61d1",
   "metadata": {},
   "source": [
    "## Bibliotheken und Daten einlesen"
   ]
  },
  {
   "cell_type": "code",
   "execution_count": 1,
   "id": "f004a9a3",
   "metadata": {},
   "outputs": [],
   "source": [
    "# Bibliotheken einbinden\n",
    "import pandas as pd\n",
    "import numpy as np\n",
    "from sklearn import linear_model\n",
    "import matplotlib.pyplot as plt\n",
    "from matplotlib.colors import ListedColormap"
   ]
  },
  {
   "cell_type": "code",
   "execution_count": 2,
   "id": "db91f184",
   "metadata": {},
   "outputs": [],
   "source": [
    "# Daten importieren\n",
    "obst = pd.read_csv(\"obst.csv\", sep=\";\")"
   ]
  },
  {
   "cell_type": "code",
   "execution_count": 3,
   "id": "a965393e",
   "metadata": {},
   "outputs": [
    {
     "data": {
      "text/html": [
       "<div>\n",
       "<style scoped>\n",
       "    .dataframe tbody tr th:only-of-type {\n",
       "        vertical-align: middle;\n",
       "    }\n",
       "\n",
       "    .dataframe tbody tr th {\n",
       "        vertical-align: top;\n",
       "    }\n",
       "\n",
       "    .dataframe thead th {\n",
       "        text-align: right;\n",
       "    }\n",
       "</style>\n",
       "<table border=\"1\" class=\"dataframe\">\n",
       "  <thead>\n",
       "    <tr style=\"text-align: right;\">\n",
       "      <th></th>\n",
       "      <th>Hoehe</th>\n",
       "      <th>Breite</th>\n",
       "      <th>Frucht</th>\n",
       "    </tr>\n",
       "  </thead>\n",
       "  <tbody>\n",
       "    <tr>\n",
       "      <th>0</th>\n",
       "      <td>9.3</td>\n",
       "      <td>9.7</td>\n",
       "      <td>Orange</td>\n",
       "    </tr>\n",
       "    <tr>\n",
       "      <th>1</th>\n",
       "      <td>9.2</td>\n",
       "      <td>9.3</td>\n",
       "      <td>Orange</td>\n",
       "    </tr>\n",
       "    <tr>\n",
       "      <th>2</th>\n",
       "      <td>9.5</td>\n",
       "      <td>8.9</td>\n",
       "      <td>Orange</td>\n",
       "    </tr>\n",
       "    <tr>\n",
       "      <th>3</th>\n",
       "      <td>9.3</td>\n",
       "      <td>7.5</td>\n",
       "      <td>Orange</td>\n",
       "    </tr>\n",
       "    <tr>\n",
       "      <th>4</th>\n",
       "      <td>8.3</td>\n",
       "      <td>7.7</td>\n",
       "      <td>Orange</td>\n",
       "    </tr>\n",
       "  </tbody>\n",
       "</table>\n",
       "</div>"
      ],
      "text/plain": [
       "   Hoehe  Breite  Frucht\n",
       "0    9.3     9.7  Orange\n",
       "1    9.2     9.3  Orange\n",
       "2    9.5     8.9  Orange\n",
       "3    9.3     7.5  Orange\n",
       "4    8.3     7.7  Orange"
      ]
     },
     "execution_count": 3,
     "metadata": {},
     "output_type": "execute_result"
    }
   ],
   "source": [
    "# Daten ausgeben\n",
    "obst.head()"
   ]
  },
  {
   "cell_type": "markdown",
   "id": "7a2ba076",
   "metadata": {},
   "source": [
    "## Feature Engineering"
   ]
  },
  {
   "cell_type": "code",
   "execution_count": 4,
   "id": "4ebd6f61",
   "metadata": {},
   "outputs": [],
   "source": [
    "# Quotient Höhe durch Breite berechnen\n",
    "obst[\"Hoehe_durch_Breite\"]=obst[\"Hoehe\"]/obst[\"Breite\"]"
   ]
  },
  {
   "cell_type": "code",
   "execution_count": 5,
   "id": "336b39d0",
   "metadata": {},
   "outputs": [
    {
     "data": {
      "text/html": [
       "<div>\n",
       "<style scoped>\n",
       "    .dataframe tbody tr th:only-of-type {\n",
       "        vertical-align: middle;\n",
       "    }\n",
       "\n",
       "    .dataframe tbody tr th {\n",
       "        vertical-align: top;\n",
       "    }\n",
       "\n",
       "    .dataframe thead th {\n",
       "        text-align: right;\n",
       "    }\n",
       "</style>\n",
       "<table border=\"1\" class=\"dataframe\">\n",
       "  <thead>\n",
       "    <tr style=\"text-align: right;\">\n",
       "      <th></th>\n",
       "      <th>Hoehe</th>\n",
       "      <th>Breite</th>\n",
       "      <th>Frucht</th>\n",
       "      <th>Hoehe_durch_Breite</th>\n",
       "    </tr>\n",
       "  </thead>\n",
       "  <tbody>\n",
       "    <tr>\n",
       "      <th>0</th>\n",
       "      <td>9.3</td>\n",
       "      <td>9.7</td>\n",
       "      <td>Orange</td>\n",
       "      <td>0.958763</td>\n",
       "    </tr>\n",
       "    <tr>\n",
       "      <th>1</th>\n",
       "      <td>9.2</td>\n",
       "      <td>9.3</td>\n",
       "      <td>Orange</td>\n",
       "      <td>0.989247</td>\n",
       "    </tr>\n",
       "    <tr>\n",
       "      <th>2</th>\n",
       "      <td>9.5</td>\n",
       "      <td>8.9</td>\n",
       "      <td>Orange</td>\n",
       "      <td>1.067416</td>\n",
       "    </tr>\n",
       "    <tr>\n",
       "      <th>3</th>\n",
       "      <td>9.3</td>\n",
       "      <td>7.5</td>\n",
       "      <td>Orange</td>\n",
       "      <td>1.240000</td>\n",
       "    </tr>\n",
       "    <tr>\n",
       "      <th>4</th>\n",
       "      <td>8.3</td>\n",
       "      <td>7.7</td>\n",
       "      <td>Orange</td>\n",
       "      <td>1.077922</td>\n",
       "    </tr>\n",
       "  </tbody>\n",
       "</table>\n",
       "</div>"
      ],
      "text/plain": [
       "   Hoehe  Breite  Frucht  Hoehe_durch_Breite\n",
       "0    9.3     9.7  Orange            0.958763\n",
       "1    9.2     9.3  Orange            0.989247\n",
       "2    9.5     8.9  Orange            1.067416\n",
       "3    9.3     7.5  Orange            1.240000\n",
       "4    8.3     7.7  Orange            1.077922"
      ]
     },
     "execution_count": 5,
     "metadata": {},
     "output_type": "execute_result"
    }
   ],
   "source": [
    "# Daten ausgeben\n",
    "obst.head()"
   ]
  },
  {
   "cell_type": "code",
   "execution_count": 6,
   "id": "121d0fc7",
   "metadata": {},
   "outputs": [],
   "source": [
    "# Daten in Feature-Matrix und Target-Vektor splitten\n",
    "features = obst.iloc[:, 3]\n",
    "target = obst.iloc[:, 2].replace(to_replace=['Orange', 'Zitrone'], value=[0, 1]) #iris.target"
   ]
  },
  {
   "cell_type": "markdown",
   "id": "c32c359e",
   "metadata": {},
   "source": [
    "## Modell trainieren"
   ]
  },
  {
   "cell_type": "code",
   "execution_count": 7,
   "id": "4f59347e",
   "metadata": {},
   "outputs": [],
   "source": [
    "# Features in NumPy-Array konvertieren\n",
    "features_arr = np.array(features).reshape(-1,1)"
   ]
  },
  {
   "cell_type": "code",
   "execution_count": 8,
   "id": "c01fdf37",
   "metadata": {},
   "outputs": [
    {
     "data": {
      "text/plain": [
       "LogisticRegression()"
      ]
     },
     "execution_count": 8,
     "metadata": {},
     "output_type": "execute_result"
    }
   ],
   "source": [
    "# Logistic Regression Objekt erzeugen\n",
    "logr = linear_model.LogisticRegression()\n",
    "logr.fit(features_arr, target)"
   ]
  },
  {
   "cell_type": "markdown",
   "id": "ebe0c323",
   "metadata": {},
   "source": [
    "## Ergebnis visualisieren"
   ]
  },
  {
   "cell_type": "code",
   "execution_count": 9,
   "id": "21e0c8bf",
   "metadata": {},
   "outputs": [],
   "source": [
    "# y-Werte der Regressions-Kurve berechnen\n",
    "x_grid = np.array([0.9, 1.0, 1.1, 1.2, 1.3, 1.4, 1.5, 1.6]).reshape(-1,1)\n",
    "y_grid = 1/(1+np.exp(-logr.intercept_-logr.coef_*x_grid)) \n",
    "\n",
    "# Klasse für Trainings-Daten vorhersagen\n",
    "target_pred = logr.predict(features_arr)\n"
   ]
  },
  {
   "cell_type": "code",
   "execution_count": 10,
   "id": "8dea036b",
   "metadata": {},
   "outputs": [
    {
     "data": {
      "image/png": "[encoded data removed]",
      "text/plain": [
       "<Figure size 640x480 with 1 Axes>"
      ]
     },
     "metadata": {},
     "output_type": "display_data"
    }
   ],
   "source": [
    "# Punkte und Kurve plotten - Klassenzuordnung kennzeichnen\n",
    "cmap_log = ListedColormap(['#FFBF00', '#D7DF01'])\n",
    "\n",
    "plt.scatter(features_arr, target, c=target_pred, cmap=cmap_log)\n",
    "plt.plot(x_grid, y_grid, color=\"blue\", linewidth=3)\n",
    "\n",
    "plt.xticks(([0.9, 1.0, 1.1, 1.2, 1.3, 1.4, 1.5, 1.6]))\n",
    "plt.yticks(([0, 0.5, 1]))\n",
    "plt.title(\"Logistische Regression\")\n",
    "plt.xlabel(\"Höhe/Breite\")\n",
    "plt.ylabel(\"p(Zitrone)\")\n",
    "\n",
    "plt.show()"
   ]
  }
 ],
 "metadata": {
  "kernelspec": {
   "display_name": "Python 3 (ipykernel)",
   "language": "python",
   "name": "python3"
  },
  "language_info": {
   "codemirror_mode": {
    "name": "ipython",
    "version": 3
   },
   "file_extension": ".py",
   "mimetype": "text/x-python",
   "name": "python",
   "nbconvert_exporter": "python",
   "pygments_lexer": "ipython3",
   "version": "3.9.13"
  }
 },
 "nbformat": 4,
 "nbformat_minor": 5
}
