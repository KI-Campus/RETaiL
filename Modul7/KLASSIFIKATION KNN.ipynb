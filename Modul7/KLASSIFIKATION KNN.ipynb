{
 "cells": [
  {
   "cell_type": "markdown",
   "id": "e87f7290",
   "metadata": {},
   "source": [
    "# K-Nearest-Neighbor-Algorithmus"
   ]
  },
  {
   "cell_type": "markdown",
   "id": "f2842de9",
   "metadata": {},
   "source": [
    "## Bibliotheken und Daten einlesen"
   ]
  },
  {
   "cell_type": "code",
   "execution_count": 2,
   "id": "ed26ce9b",
   "metadata": {},
   "outputs": [],
   "source": [
    "# https://stackoverflow.com/questions/45075638/graph-k-nn-decision-boundaries-in-matplotlib"
   ]
  },
  {
   "cell_type": "code",
   "execution_count": 3,
   "id": "a22347a8",
   "metadata": {},
   "outputs": [],
   "source": [
    "# Bibliotheken einbinden\n",
    "import numpy as np\n",
    "import matplotlib.pyplot as plt\n",
    "import pandas as pd\n",
    "from matplotlib.colors import ListedColormap\n",
    "from sklearn import neighbors, datasets"
   ]
  },
  {
   "cell_type": "code",
   "execution_count": 4,
   "id": "db91f184",
   "metadata": {},
   "outputs": [],
   "source": [
    "# Daten importieren\n",
    "obst = pd.read_csv(\"obst.csv\", sep=\";\")"
   ]
  },
  {
   "cell_type": "code",
   "execution_count": 5,
   "id": "336b39d0",
   "metadata": {},
   "outputs": [
    {
     "data": {
      "text/html": [
       "<div>\n",
       "<style scoped>\n",
       "    .dataframe tbody tr th:only-of-type {\n",
       "        vertical-align: middle;\n",
       "    }\n",
       "\n",
       "    .dataframe tbody tr th {\n",
       "        vertical-align: top;\n",
       "    }\n",
       "\n",
       "    .dataframe thead th {\n",
       "        text-align: right;\n",
       "    }\n",
       "</style>\n",
       "<table border=\"1\" class=\"dataframe\">\n",
       "  <thead>\n",
       "    <tr style=\"text-align: right;\">\n",
       "      <th></th>\n",
       "      <th>Hoehe</th>\n",
       "      <th>Breite</th>\n",
       "      <th>Frucht</th>\n",
       "    </tr>\n",
       "  </thead>\n",
       "  <tbody>\n",
       "    <tr>\n",
       "      <th>0</th>\n",
       "      <td>9.3</td>\n",
       "      <td>9.7</td>\n",
       "      <td>Orange</td>\n",
       "    </tr>\n",
       "    <tr>\n",
       "      <th>1</th>\n",
       "      <td>9.2</td>\n",
       "      <td>9.3</td>\n",
       "      <td>Orange</td>\n",
       "    </tr>\n",
       "    <tr>\n",
       "      <th>2</th>\n",
       "      <td>9.5</td>\n",
       "      <td>8.9</td>\n",
       "      <td>Orange</td>\n",
       "    </tr>\n",
       "    <tr>\n",
       "      <th>3</th>\n",
       "      <td>9.3</td>\n",
       "      <td>7.5</td>\n",
       "      <td>Orange</td>\n",
       "    </tr>\n",
       "    <tr>\n",
       "      <th>4</th>\n",
       "      <td>8.3</td>\n",
       "      <td>7.7</td>\n",
       "      <td>Orange</td>\n",
       "    </tr>\n",
       "  </tbody>\n",
       "</table>\n",
       "</div>"
      ],
      "text/plain": [
       "   Hoehe  Breite  Frucht\n",
       "0    9.3     9.7  Orange\n",
       "1    9.2     9.3  Orange\n",
       "2    9.5     8.9  Orange\n",
       "3    9.3     7.5  Orange\n",
       "4    8.3     7.7  Orange"
      ]
     },
     "execution_count": 5,
     "metadata": {},
     "output_type": "execute_result"
    }
   ],
   "source": [
    "# Daten ausgeben\n",
    "obst.head()"
   ]
  },
  {
   "cell_type": "code",
   "execution_count": 6,
   "id": "121d0fc7",
   "metadata": {},
   "outputs": [],
   "source": [
    "# Daten in Feature-Matrix und Target-Vektor splitten\n",
    "features = obst.iloc[:, 0:2]\n",
    "target = obst.iloc[:, 2].replace(to_replace=['Orange', 'Zitrone'], value=[0, 1]) #iris.target"
   ]
  },
  {
   "cell_type": "markdown",
   "id": "1d4c5fdb",
   "metadata": {},
   "source": [
    "## Parameter und Einstellungen"
   ]
  },
  {
   "cell_type": "code",
   "execution_count": 7,
   "id": "56d4c251",
   "metadata": {},
   "outputs": [],
   "source": [
    "# Parameter festlegen\n",
    "n_neighbors = 5 # Anzahl Nachbarn des k-NN-Algorithmuses\n",
    "h = .02  # Schrittgröße der Graphik"
   ]
  },
  {
   "cell_type": "code",
   "execution_count": 8,
   "id": "fb0ca9a7",
   "metadata": {},
   "outputs": [],
   "source": [
    "# Color maps festlegen\n",
    "cmap_light = ListedColormap(['#F5DA81', '#F3F781'])\n",
    "cmap_bold = ListedColormap(['#FFBF00', '#D7DF01'])"
   ]
  },
  {
   "cell_type": "markdown",
   "id": "44fe0ace",
   "metadata": {},
   "source": [
    "## Modell trainieren"
   ]
  },
  {
   "cell_type": "code",
   "execution_count": 9,
   "id": "db663b53",
   "metadata": {},
   "outputs": [
    {
     "data": {
      "text/plain": [
       "KNeighborsClassifier()"
      ]
     },
     "execution_count": 9,
     "metadata": {},
     "output_type": "execute_result"
    }
   ],
   "source": [
    "# k-Nearest Neighbours Classifier Instanz erzeugen und trainieren\n",
    "clf = neighbors.KNeighborsClassifier(n_neighbors, weights='uniform')\n",
    "clf.fit(features, target)"
   ]
  },
  {
   "cell_type": "markdown",
   "id": "f3a75683",
   "metadata": {},
   "source": [
    "## Ergebnis visualisieren"
   ]
  },
  {
   "cell_type": "code",
   "execution_count": 10,
   "id": "a65152a5",
   "metadata": {},
   "outputs": [],
   "source": [
    "# Decision boundary plot vorbereiten. Hierzu wird jedem Punkt in dem Gitter\n",
    "# [x_min, x_max]x[y_min, y_max] die zur jeweiligen Klasse gehörende Farbe zugewiesen\n",
    "x_min, x_max = features.iloc[:, 0].min() - 1, features.iloc[:, 0].max() + 1\n",
    "y_min, y_max = features.iloc[:, 1].min() - 1, features.iloc[:, 1].max() + 1\n",
    "xx, yy = np.meshgrid(np.arange(x_min, x_max, h),\n",
    "                     np.arange(y_min, y_max, h))\n",
    "Z = clf.predict(np.c_[xx.ravel(), yy.ravel()])"
   ]
  },
  {
   "cell_type": "code",
   "execution_count": 11,
   "id": "588e175e",
   "metadata": {
    "scrolled": true
   },
   "outputs": [
    {
     "data": {
      "image/png": "[encoded data removed]",
      "text/plain": [
       "<Figure size 640x480 with 1 Axes>"
      ]
     },
     "metadata": {},
     "output_type": "display_data"
    }
   ],
   "source": [
    "# Decision boundary plotten\n",
    "Z = Z.reshape(xx.shape)\n",
    "plt.figure()\n",
    "plt.pcolormesh(xx, yy, Z, cmap=cmap_light)\n",
    "# Punkte des Trainings-Datensatzes hinzufügen\n",
    "plt.scatter(features.iloc[:, 0], features.iloc[:, 1], c=target, cmap=cmap_bold)\n",
    "plt.xlim(xx.min(), xx.max())\n",
    "plt.ylim(yy.min(), yy.max())\n",
    "plt.title(\"2-Klassen-Klassifikation (K = %i)\"\n",
    "          % (n_neighbors))\n",
    "plt.xlabel(\"Höhe\")\n",
    "plt.ylabel(\"Breite\")\n",
    "plt.show()"
   ]
  }
 ],
 "metadata": {
  "kernelspec": {
   "display_name": "Python 3 (ipykernel)",
   "language": "python",
   "name": "python-retail"
  },
  "language_info": {
   "codemirror_mode": {
    "name": "ipython",
    "version": 3
   },
   "file_extension": ".py",
   "mimetype": "text/x-python",
   "name": "python",
   "nbconvert_exporter": "python",
   "pygments_lexer": "ipython3",
   "version": "3.9.13"
  }
 },
 "nbformat": 4,
 "nbformat_minor": 5
}
